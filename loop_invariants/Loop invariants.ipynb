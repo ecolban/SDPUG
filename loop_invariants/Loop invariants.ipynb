{
 "cells": [
  {
   "cell_type": "markdown",
   "metadata": {},
   "source": [
    "# Loop Invariants\n",
    "(not ready)"
   ]
  },
  {
   "cell_type": "markdown",
   "metadata": {},
   "source": [
    "## Longest Palindromic Substring (LPS)\n",
    "\n",
    "The LPS problem consists of finding the longest substring of a given string that is a [palindrome](https://en.wikipedia.org/wiki/Palindrome), i.e., a string that reads the same backwards as forwards.\n",
    "\n",
    "Odd length palindromes are symmetric around a central character and the problem of finding the longest odd length palindromic substring is slightly easier than the general LPS problem."
   ]
  },
  {
   "cell_type": "markdown",
   "metadata": {
    "pycharm": {
     "name": "#%% md\n"
    }
   },
   "source": [
    "### A naive approach\n",
    "\n",
    "For every character in the given string, find the longest palindromic substring centered at that character while keeping track of the longest palindromic substring found so far:"
   ]
  },
  {
   "cell_type": "code",
   "execution_count": 1,
   "metadata": {
    "pycharm": {
     "name": "#%%\n"
    }
   },
   "outputs": [
    {
     "data": {
      "text/plain": [
       "'racecar'"
      ]
     },
     "execution_count": 1,
     "metadata": {},
     "output_type": "execute_result"
    }
   ],
   "source": [
    "def lops_naive(s):\n",
    "    n = len(s)\n",
    "    max_ctr, max_radius = 0, 0\n",
    "    for ctr in range(len(s)):\n",
    "        start = end = ctr\n",
    "        while 0 < start and end < n - 1 and s[start - 1] == s[end + 1]:\n",
    "            # start and end are symmetric wrt to ctr\n",
    "            # s[start:end + 1] is palindromic\n",
    "            start, end = start - 1, end + 1\n",
    "        # s[start:end + 1] is the longest palindormic substring centered at ct\n",
    "        if end - ctr > max_radius:\n",
    "            max_ctr, max_radius = ctr, end - ctr\n",
    "    return s[max_ctr - max_radius:max_ctr + max_radius + 1]\n",
    "\n",
    "lops_naive('aracecar')"
   ]
  },
  {
   "cell_type": "code",
   "execution_count": 2,
   "metadata": {},
   "outputs": [
    {
     "data": {
      "text/plain": [
       "'ANA'"
      ]
     },
     "execution_count": 2,
     "metadata": {},
     "output_type": "execute_result"
    }
   ],
   "source": [
    "lops_naive('ANABBA')"
   ]
  },
  {
   "cell_type": "code",
   "execution_count": 3,
   "metadata": {
    "pycharm": {
     "name": "#%%\n"
    }
   },
   "outputs": [
    {
     "data": {
      "text/plain": [
       "'|A|B|B|A|'"
      ]
     },
     "execution_count": 3,
     "metadata": {},
     "output_type": "execute_result"
    }
   ],
   "source": [
    "lops_naive('|A|N|A|B|B|A|')"
   ]
  },
  {
   "cell_type": "markdown",
   "metadata": {
    "pycharm": {
     "name": "#%% md\n"
    }
   },
   "source": [
    "The time complexity of `lops_naive` is O(n^2), which is noticeable when applying it to, e.g., `'a' * 10000`"
   ]
  },
  {
   "cell_type": "code",
   "execution_count": 5,
   "metadata": {
    "pycharm": {
     "name": "#%%\n"
    }
   },
   "outputs": [
    {
     "data": {
      "text/plain": [
       "9999"
      ]
     },
     "execution_count": 5,
     "metadata": {},
     "output_type": "execute_result"
    }
   ],
   "source": [
    "len(lops_naive('a' * 10000))"
   ]
  },
  {
   "cell_type": "markdown",
   "metadata": {
    "pycharm": {
     "name": "#%% md\n"
    }
   },
   "source": [
    "### A linear approach; [Manacher's algorithm](https://en.wikipedia.org/wiki/Longest_palindromic_substring#Manacher's_algorithm)\n",
    "\n",
    "In this approach, we keep track of the lengths of the palindromic substrings in an array `r`. \n",
    "\n",
    "At some point during the execution of the algorithm, we'll have the following situation:\n",
    "\n",
    "**Situation I:** *The variable `ctr` points to some character of the input string, `start` and `end` point to the first and last characters of the longest palindromic substring centered at `ctr`, and `r[k]` has been computed for all `k` where `0 <= k <= ctr`.*\n",
    "\n",
    "This situation can be illustrated by:\n",
    "\n",
    "<img src=\"assets/longest_palindrome.svg\"/>"
   ]
  },
  {
   "cell_type": "markdown",
   "metadata": {
    "pycharm": {
     "name": "#%% md\n"
    }
   },
   "source": [
    "The next step of the algorithm is to try and populate `r[j]` for `ctr < j <= end` based on `r[i]`, where `i` is symmetric to `j` with respect to `ctr`, i.e., `i = ctr - (j - ctr)`. \n",
    "\n",
    "<img src=\"assets/longest_palindrome_3.svg\"/>\n",
    "\n",
    "There are three cases to consider depending on whether the longest palindromic substring centered at `i` starts before, at, or after `start`.\n",
    "\n",
    "1. `r[i] <  end - j` => `r[j]  = r[i]`\n",
    "2. `r[i] >  end - j` => `r[j]  = end - j`  \n",
    "3. `r[i] == end - j` => `r[j] >= end - j`  \n",
    "\n",
    "Note that cases 1 and 2 can be combined into one case `r[i] != end - j` => `r[j] = min(r[i], end - j)`.\n",
    "In case 3, we don't know the radius to assign to `r[j]`, so we'll make `j` the _new_ `ctr`. \n",
    "\n",
    "What we have described so far can be translated into code as follows:\n",
    "\n",
    "```Python\n",
    "    ...\n",
    "    # We have Situation I\n",
    "    i, j = ctr - 1, ctr + 1\n",
    "    while j <= end and r[i] != end - j:\n",
    "        # Loop invariant: \n",
    "        # r[k] has been computed for 0 <= k < j\n",
    "        # i is symmetric to j wrt ctr\n",
    "        r[j] = min(r[i], end - j)\n",
    "        i, j = i - 1, j + 1\n",
    "    ctr = j\n",
    "```\n",
    "\n",
    "The situation right after is illustrated by:\n",
    "\n",
    "<img src=\"assets/longest_palindrome_4.svg\"/>"
   ]
  },
  {
   "cell_type": "markdown",
   "metadata": {
    "pycharm": {
     "name": "#%% md\n"
    }
   },
   "source": [
    "After making `j` the new `ctr`, we try and restore *Situation I*. In order to do that, we must update `start` and `end` and assign the correct value to `r[j]`.\n",
    "\n",
    "```Python\n",
    "    end = max(end, j) # in case the previous loop exited with j > end.\n",
    "    start = ctr - (end - ctr) # start is symmetric to end wrt ctr\n",
    "    while 0 < start and end < n - 1 and s[start - 1] == s[end + 1]:\n",
    "        # Loop invariant: \n",
    "        # s[start:end + 1] is palindromic\n",
    "        # start is symmetric to end wrt ctr\n",
    "        start, end = start - 1, end + 1\n",
    "    r[j] = end - ctr\n",
    " ```\n",
    "\n",
    "At this point we have *Situation I* again and we can loop back and repeat till we are done. In fact, *Situation I* is our loop invariant. We are done when `end == n - 1`, where `n` is the length of the input string. To establish *Situation I* the first time we reach the loop, we can assign `start = ctr = end = 0`. Putting all this together, we get:"
   ]
  },
  {
   "cell_type": "code",
   "execution_count": 6,
   "metadata": {
    "pycharm": {
     "name": "#%%\n"
    }
   },
   "outputs": [],
   "source": [
    "def lops(s):\n",
    "    n = len(s)\n",
    "    r = [0] * n\n",
    "    start = ctr = end = 0\n",
    "    while end < n - 1:\n",
    "        # Loop invariant:\n",
    "        # ctr is the index some character in s\n",
    "        # start is the index of first character of the longest palindromic \n",
    "        # substring of s centered at ctr\n",
    "        # end is the index of last character of the longest palindromic \n",
    "        # substring of s centered at ctr\n",
    "        # r[k] == radius of the longest palindromic substring of s \n",
    "        # centered at k, for 0 <= k <= ctr\n",
    "        i, j = ctr - 1, ctr + 1\n",
    "        while j <= end and r[i] != end - j:\n",
    "            r[j] = min(r[i], end - j)\n",
    "            i, j = i - 1, j + 1\n",
    "        ctr, end = j, max(end, j)\n",
    "        start = ctr - (end - ctr)\n",
    "        while 0 < start and end < n - 1 and s[start - 1] == s[end + 1]:\n",
    "            start, end = start - 1, end + 1\n",
    "        r[j] = end - ctr\n",
    "    max_j = max(range(n), key=lambda k: r[k])\n",
    "    return s[max_j - r[max_j]: max_j + r[max_j] + 1]"
   ]
  },
  {
   "cell_type": "code",
   "execution_count": 7,
   "metadata": {},
   "outputs": [
    {
     "data": {
      "text/plain": [
       "'|A|B|B|A|'"
      ]
     },
     "execution_count": 7,
     "metadata": {},
     "output_type": "execute_result"
    }
   ],
   "source": [
    "lops('|A|N|A|B|B|A|')"
   ]
  },
  {
   "cell_type": "code",
   "execution_count": 8,
   "metadata": {
    "pycharm": {
     "name": "#%%\n"
    }
   },
   "outputs": [
    {
     "data": {
      "text/plain": [
       "999999"
      ]
     },
     "execution_count": 8,
     "metadata": {},
     "output_type": "execute_result"
    }
   ],
   "source": [
    "len(lops('a' * 1000000))"
   ]
  },
  {
   "cell_type": "markdown",
   "metadata": {
    "pycharm": {
     "name": "#%% md\n"
    }
   },
   "source": [
    "#### Time complexity of Manecher's algorithm\n",
    "\n",
    "Notice that the variables `j` and `end` are never reset or decremented and that they never surpass `n`. The variable `j` is incremented for each iteration of the first inner loop, which bounds the number of iterations of that loop summed over all iterations of the outer loop to `n`. Similarly, the variable `end` is incremented for each iteration of the second inner loop, which bounds the number of iterations of that loop summed over all iterations of the outer loop to `n`. Also, progress is made in each iteration of the outer loop, since both `j` and `end` are incremented in the outer loop. Since each iteration of the two inner loops takes constant time, the time complexity of the whole algorithm is O(n)."
   ]
  },
  {
   "cell_type": "markdown",
   "metadata": {
    "pycharm": {
     "name": "#%% md\n"
    }
   },
   "source": [
    "### LPS revisited\n",
    "\n",
    "We can now provide the definition of LPS based on LOPS."
   ]
  },
  {
   "cell_type": "code",
   "execution_count": 9,
   "metadata": {
    "pycharm": {
     "name": "#%%\n"
    }
   },
   "outputs": [],
   "source": [
    "def lps(s):\n",
    "    s_sep = f'{\"|\"}{\"|\".join(s)}{\"|\"}'\n",
    "    return ''.join(c for i, c in enumerate(lops(s_sep)) if i & 1)"
   ]
  },
  {
   "cell_type": "code",
   "execution_count": 10,
   "metadata": {},
   "outputs": [
    {
     "data": {
      "text/plain": [
       "'ABBA'"
      ]
     },
     "execution_count": 10,
     "metadata": {},
     "output_type": "execute_result"
    }
   ],
   "source": [
    "lps('ANABBA')"
   ]
  },
  {
   "cell_type": "code",
   "execution_count": 11,
   "metadata": {
    "pycharm": {
     "name": "#%%\n"
    }
   },
   "outputs": [
    {
     "data": {
      "text/plain": [
       "1000000"
      ]
     },
     "execution_count": 11,
     "metadata": {},
     "output_type": "execute_result"
    }
   ],
   "source": [
    "len(lps('a'*1_000_000))"
   ]
  },
  {
   "cell_type": "markdown",
   "metadata": {
    "pycharm": {
     "name": "#%% md\n"
    }
   },
   "source": [
    "However, we don't need to allocate the memory for `s_sep` as shown above, since we know that \n",
    "\n",
    "```Python\n",
    "s_sep[k] = '|' if k % 2 == 0 else s[k >> 1]\n",
    "``` \n",
    "We can implement `lps` by modifying `lops`."
   ]
  },
  {
   "cell_type": "code",
   "execution_count": 12,
   "metadata": {},
   "outputs": [],
   "source": [
    "def longest_palindrome(s):\n",
    "    \"\"\"\n",
    "    Find the longest palindromic substring in s. If there are multiple such substrings,\n",
    "    the first occurrence is returned.\n",
    "    \"\"\"\n",
    "    # s_sep = '|' + '|'.join(s) + '|'\n",
    "    n = 2 * len(s) + 1\n",
    "    r = [0] * n\n",
    "    start = max_j = ctr = end = 0\n",
    "    while end < n - 1:\n",
    "        # Loop invariant:\n",
    "        # ctr is the index some character in s_sep\n",
    "        # start is the index of first character of the longest palindromic \n",
    "        # substring of s_sep centered at ctr\n",
    "        # end is the index of last character of the longest palindromic \n",
    "        # substring of s_sep centered at ctr\n",
    "        # r[k] == radius of the longest palindromic substring of s_sep \n",
    "        # centered at k, for 0 <= k <= ctr\n",
    "        i, j = ctr - 1, ctr + 1\n",
    "        while j <= end and r[i] != end - j:\n",
    "            r[j] = min(r[i], end - j)\n",
    "            i, j = i - 1, j + 1\n",
    "        ctr, end = j, max(end, j)\n",
    "        start = ctr - (end - ctr)\n",
    "        while start & 1 or 0 < start and end < n - 1 and s[(start >> 1) - 1] == s[end >> 1]:\n",
    "            start, end = start - 1, end + 1\n",
    "        r[ctr] = end - ctr\n",
    "        if r[ctr] > r[max_j]: max_j = ctr\n",
    "    return s[max_j - r[max_j] >> 1: max_j + r[max_j] >> 1]"
   ]
  },
  {
   "cell_type": "code",
   "execution_count": 13,
   "metadata": {},
   "outputs": [
    {
     "data": {
      "text/plain": [
       "'ABBA'"
      ]
     },
     "execution_count": 13,
     "metadata": {},
     "output_type": "execute_result"
    }
   ],
   "source": [
    "longest_palindrome('ANABBA')"
   ]
  },
  {
   "cell_type": "code",
   "execution_count": 14,
   "metadata": {},
   "outputs": [
    {
     "data": {
      "text/plain": [
       "'ANANA'"
      ]
     },
     "execution_count": 14,
     "metadata": {},
     "output_type": "execute_result"
    }
   ],
   "source": [
    "longest_palindrome('BANANAS IN PAJAMAS')"
   ]
  },
  {
   "cell_type": "code",
   "execution_count": 15,
   "metadata": {},
   "outputs": [],
   "source": [
    "def longest_palindrome_everted(s):\n",
    "    \"\"\"\n",
    "    Find the longest palindromic substring in s. If there are multiple such substrings,\n",
    "    the first occurrence is returned.\n",
    "    \"\"\"\n",
    "    # s_sep = '|' + '|'.join(s) + '|'\n",
    "    n = 2 * len(s) + 1\n",
    "    r = [0] * n\n",
    "    start = ctr = max_j = end = 0\n",
    "    for j in range(1, n):\n",
    "        if j <= end and r[i] != end - j:\n",
    "            r[j] = min(r[i], end - j)\n",
    "            i = i - 1\n",
    "        else:\n",
    "            ctr, end = j, max(end, j)\n",
    "            start = ctr - (end - ctr)\n",
    "            while start & 1 or 0 < start and end < n - 1 and s[(start >> 1) - 1] == s[end >> 1]:\n",
    "                start, end = start - 1, end + 1\n",
    "            r[ctr] = end - ctr\n",
    "            i = ctr - 1\n",
    "            if r[ctr] > r[max_j]: max_j = ctr\n",
    "    return s[max_j - r[max_j] >> 1:max_j + r[max_j] >> 1]"
   ]
  },
  {
   "cell_type": "code",
   "execution_count": 16,
   "metadata": {},
   "outputs": [],
   "source": [
    "def longest_palindrome_everted(s):\n",
    "    n = 2 * len(s) + 1\n",
    "    r = [0] * n\n",
    "    start = ctr = max_j = 0\n",
    "    for end in range(n):\n",
    "        while start & 1 == 0 and ctr <= end and (start == 0 or end == n - 1 or s[(start >> 1) - 1] != s[end >> 1]):\n",
    "            r[ctr] = end - ctr\n",
    "            if r[ctr] > r[max_j]: max_j = ctr\n",
    "            i, j = ctr - 1, ctr + 1\n",
    "            while j <= end and r[i] != end - j:\n",
    "                r[j] = min(r[i], end - j)\n",
    "                i, j = i - 1, j + 1\n",
    "            ctr = j\n",
    "            start = ctr - (end - ctr)\n",
    "        start -= 1\n",
    "    return s[max_j - r[max_j] >> 1:max_j + r[max_j] >> 1]"
   ]
  },
  {
   "cell_type": "code",
   "execution_count": 17,
   "metadata": {},
   "outputs": [
    {
     "data": {
      "text/plain": [
       "'ANANA'"
      ]
     },
     "execution_count": 17,
     "metadata": {},
     "output_type": "execute_result"
    }
   ],
   "source": [
    "longest_palindrome_everted('BANANAS IN PAJAMAS')"
   ]
  },
  {
   "cell_type": "code",
   "execution_count": 18,
   "metadata": {
    "pycharm": {
     "name": "#%%\n"
    }
   },
   "outputs": [],
   "source": [
    "# len(longest_palindrome('a' * 1_000_000))\n",
    "def random_palindromes(chars, repetitions, size):\n",
    "    d = defaultdict(int)\n",
    "    for _ in range(repetitions):\n",
    "        s = ''.join(choice(chars) for _ in range(size))\n",
    "        p = longest_palindrome(s)\n",
    "        d[len(p)] += 1\n",
    "    return sorted(d.items())"
   ]
  },
  {
   "cell_type": "code",
   "execution_count": 19,
   "metadata": {},
   "outputs": [],
   "source": [
    "%matplotlib inline\n",
    "\n",
    "import matplotlib.pyplot as plt\n",
    "import matplotlib.axes as subfig\n",
    "import numpy as np\n",
    "\n",
    "from collections import defaultdict\n",
    "from random import choice"
   ]
  },
  {
   "cell_type": "code",
   "execution_count": 20,
   "metadata": {},
   "outputs": [
    {
     "data": {
      "text/plain": [
       "<BarContainer object of 12 artists>"
      ]
     },
     "execution_count": 20,
     "metadata": {},
     "output_type": "execute_result"
    }
   ],
   "source": [
    "res = random_palindromes('ucga', 1000, 1000000)\n",
    "# res = [(18, 8), (19, 125), (20, 164), (21, 336), (22, 111), (23, 156), (24, 39), (25, 33), (26, 8), (27, 12), (28, 6), (29, 2)]\n",
    "x, y = (np.array(a) for a in zip(*res))\n",
    "plt.bar(x, y)"
   ]
  },
  {
   "cell_type": "code",
   "execution_count": 21,
   "metadata": {},
   "outputs": [
    {
     "data": {
      "text/plain": [
       "[(18, 3),\n",
       " (19, 119),\n",
       " (20, 155),\n",
       " (21, 345),\n",
       " (22, 120),\n",
       " (23, 137),\n",
       " (24, 42),\n",
       " (25, 50),\n",
       " (26, 14),\n",
       " (27, 13),\n",
       " (29, 1),\n",
       " (30, 1)]"
      ]
     },
     "execution_count": 21,
     "metadata": {},
     "output_type": "execute_result"
    },
    {
     "data": {
      "image/png": "[encoded data removed]",
      "text/plain": [
       "<Figure size 432x288 with 1 Axes>"
      ]
     },
     "metadata": {
      "needs_background": "light"
     },
     "output_type": "display_data"
    }
   ],
   "source": [
    "res"
   ]
  },
  {
   "cell_type": "code",
   "execution_count": null,
   "metadata": {},
   "outputs": [],
   "source": [
    "res2 = [(18, 9),\n",
    " (19, 127),\n",
    " (20, 179),\n",
    " (21, 304),\n",
    " (22, 105),\n",
    " (23, 135),\n",
    " (24, 50),\n",
    " (25, 61),\n",
    " (26, 10),\n",
    " (27, 11),\n",
    " (28, 6),\n",
    " (29, 1),\n",
    " (30, 2)]"
   ]
  },
  {
   "cell_type": "code",
   "execution_count": null,
   "metadata": {},
   "outputs": [],
   "source": [
    "sum(y[0:12:2])"
   ]
  },
  {
   "cell_type": "code",
   "execution_count": null,
   "metadata": {},
   "outputs": [],
   "source": [
    "sum(y[1:12:2])"
   ]
  }
 ],
 "metadata": {
  "kernelspec": {
   "display_name": "Python 3",
   "language": "python",
   "name": "python3"
  },
  "language_info": {
   "codemirror_mode": {
    "name": "ipython",
    "version": 3
   },
   "file_extension": ".py",
   "mimetype": "text/x-python",
   "name": "python",
   "nbconvert_exporter": "python",
   "pygments_lexer": "ipython3",
   "version": "3.8.6"
  },
  "pycharm": {
   "stem_cell": {
    "cell_type": "raw",
    "metadata": {
     "collapsed": false
    },
    "source": []
   }
  }
 },
 "nbformat": 4,
 "nbformat_minor": 4
}
