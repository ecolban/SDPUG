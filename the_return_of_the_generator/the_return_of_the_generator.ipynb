{
 "cells": [
  {
   "cell_type": "markdown",
   "id": "b9f519ad",
   "metadata": {},
   "source": [
    "# The return of the generator\n",
    "\n",
    "Presentation to the San Diego Python User Group, June 2022, by Erik Colban  \n",
    "(Available at: https://github.com/ecolban/SDPUG/tree/master/the_return_of_the_generator)\n",
    "\n",
    "A generator function is a function that returns a generator. A generator yields values. A much less know fact about generators is that they also _return_ a value.\n",
    "\n",
    "Let's start with some regular generators that apparently don't return anything.\n",
    "\n",
    "**Example:**"
   ]
  },
  {
   "cell_type": "code",
   "execution_count": 1,
   "id": "98790cfc",
   "metadata": {},
   "outputs": [],
   "source": [
    "def nats(start=0):\n",
    "    n = start\n",
    "    while True:\n",
    "        yield n\n",
    "        n += 1"
   ]
  },
  {
   "cell_type": "code",
   "execution_count": 2,
   "id": "f3f5bddc",
   "metadata": {},
   "outputs": [
    {
     "data": {
      "text/plain": [
       "[1, 2, 3, 4, 5, 6, 7, 8, 9, 10]"
      ]
     },
     "execution_count": 2,
     "metadata": {},
     "output_type": "execute_result"
    }
   ],
   "source": [
    "g = nats(1)\n",
    "[next(g) for _ in range(10)]"
   ]
  },
  {
   "cell_type": "code",
   "execution_count": 3,
   "id": "d02f7ed2",
   "metadata": {},
   "outputs": [
    {
     "data": {
      "text/plain": [
       "[11, 12, 13, 14, 15, 16, 17, 18, 19, 20]"
      ]
     },
     "execution_count": 3,
     "metadata": {},
     "output_type": "execute_result"
    }
   ],
   "source": [
    "[next(g) for _ in range(10)]"
   ]
  },
  {
   "cell_type": "markdown",
   "id": "6a2b62bd",
   "metadata": {},
   "source": [
    "To \"reset\" a generator, we can re-assign `g` to a new instance (and let the old one be garbage-collected)."
   ]
  },
  {
   "cell_type": "code",
   "execution_count": 4,
   "id": "b3f7d3b7",
   "metadata": {},
   "outputs": [
    {
     "data": {
      "text/plain": [
       "[1, 2, 3, 4, 5, 6, 7, 8, 9, 10]"
      ]
     },
     "execution_count": 4,
     "metadata": {},
     "output_type": "execute_result"
    }
   ],
   "source": [
    "g = nats(1)\n",
    "[next(g) for _ in range(10)]"
   ]
  },
  {
   "cell_type": "markdown",
   "id": "64792b82",
   "metadata": {},
   "source": [
    "A generator like this one never returns. To see what happens when a generator returns, we can define a generator that yields a finite number of values.\n",
    "\n",
    "**Example:**"
   ]
  },
  {
   "cell_type": "code",
   "execution_count": 5,
   "id": "74d041f4",
   "metadata": {},
   "outputs": [],
   "source": [
    "def nats_bounded(start, end):\n",
    "    for n in range(start, end):\n",
    "        yield n"
   ]
  },
  {
   "cell_type": "code",
   "execution_count": 6,
   "id": "b7f4cf4f",
   "metadata": {},
   "outputs": [
    {
     "data": {
      "text/plain": [
       "[1, 2, 3, 4, 5, 6, 7, 8, 9, 10]"
      ]
     },
     "execution_count": 6,
     "metadata": {},
     "output_type": "execute_result"
    }
   ],
   "source": [
    "list(nats_bounded(1, 11))"
   ]
  },
  {
   "cell_type": "markdown",
   "id": "6bcc8920",
   "metadata": {},
   "source": [
    "If we call `next` on the generator more times than the number of values that the generator yields, a `StopIteration` exception is raised. So it doesn't \"return\" in the same sense as when a regular function returns."
   ]
  },
  {
   "cell_type": "code",
   "execution_count": 7,
   "id": "c89f27f1",
   "metadata": {},
   "outputs": [
    {
     "ename": "StopIteration",
     "evalue": "",
     "output_type": "error",
     "traceback": [
      "\u001b[0;31m---------------------------------------------------------------------------\u001b[0m",
      "\u001b[0;31mStopIteration\u001b[0m                             Traceback (most recent call last)",
      "Input \u001b[0;32mIn [7]\u001b[0m, in \u001b[0;36m<cell line: 2>\u001b[0;34m()\u001b[0m\n\u001b[1;32m      1\u001b[0m g \u001b[38;5;241m=\u001b[39m nats_bounded(\u001b[38;5;241m1\u001b[39m, \u001b[38;5;241m11\u001b[39m)\n\u001b[0;32m----> 2\u001b[0m [\u001b[38;5;28mnext\u001b[39m(g) \u001b[38;5;28;01mfor\u001b[39;00m _ \u001b[38;5;129;01min\u001b[39;00m \u001b[38;5;28mrange\u001b[39m(\u001b[38;5;241m11\u001b[39m)]\n",
      "Input \u001b[0;32mIn [7]\u001b[0m, in \u001b[0;36m<listcomp>\u001b[0;34m(.0)\u001b[0m\n\u001b[1;32m      1\u001b[0m g \u001b[38;5;241m=\u001b[39m nats_bounded(\u001b[38;5;241m1\u001b[39m, \u001b[38;5;241m11\u001b[39m)\n\u001b[0;32m----> 2\u001b[0m [\u001b[38;5;28;43mnext\u001b[39;49m\u001b[43m(\u001b[49m\u001b[43mg\u001b[49m\u001b[43m)\u001b[49m \u001b[38;5;28;01mfor\u001b[39;00m _ \u001b[38;5;129;01min\u001b[39;00m \u001b[38;5;28mrange\u001b[39m(\u001b[38;5;241m11\u001b[39m)]\n",
      "\u001b[0;31mStopIteration\u001b[0m: "
     ]
    }
   ],
   "source": [
    "g = nats_bounded(1, 11)\n",
    "[next(g) for _ in range(11)]"
   ]
  },
  {
   "cell_type": "markdown",
   "id": "fde5ef48",
   "metadata": {},
   "source": [
    "What happens if we add a return statement?"
   ]
  },
  {
   "cell_type": "code",
   "execution_count": 10,
   "id": "b7e518bc",
   "metadata": {},
   "outputs": [],
   "source": [
    "def nats_bounded_accummulate(start, end):\n",
    "    total = 0\n",
    "    n = start\n",
    "    for n in range(start, end):\n",
    "        total += n\n",
    "        yield n        \n",
    "    return total"
   ]
  },
  {
   "cell_type": "code",
   "execution_count": 9,
   "id": "ff6ee684",
   "metadata": {},
   "outputs": [
    {
     "ename": "StopIteration",
     "evalue": "55",
     "output_type": "error",
     "traceback": [
      "\u001b[0;31m---------------------------------------------------------------------------\u001b[0m",
      "\u001b[0;31mStopIteration\u001b[0m                             Traceback (most recent call last)",
      "Input \u001b[0;32mIn [9]\u001b[0m, in \u001b[0;36m<cell line: 2>\u001b[0;34m()\u001b[0m\n\u001b[1;32m      1\u001b[0m g \u001b[38;5;241m=\u001b[39m nats_bounded_accummulate(\u001b[38;5;241m1\u001b[39m, \u001b[38;5;241m11\u001b[39m)\n\u001b[0;32m----> 2\u001b[0m \u001b[38;5;28mprint\u001b[39m([\u001b[38;5;28mnext\u001b[39m(g) \u001b[38;5;28;01mfor\u001b[39;00m _ \u001b[38;5;129;01min\u001b[39;00m \u001b[38;5;28mrange\u001b[39m(\u001b[38;5;241m11\u001b[39m)])\n",
      "Input \u001b[0;32mIn [9]\u001b[0m, in \u001b[0;36m<listcomp>\u001b[0;34m(.0)\u001b[0m\n\u001b[1;32m      1\u001b[0m g \u001b[38;5;241m=\u001b[39m nats_bounded_accummulate(\u001b[38;5;241m1\u001b[39m, \u001b[38;5;241m11\u001b[39m)\n\u001b[0;32m----> 2\u001b[0m \u001b[38;5;28mprint\u001b[39m([\u001b[38;5;28;43mnext\u001b[39;49m\u001b[43m(\u001b[49m\u001b[43mg\u001b[49m\u001b[43m)\u001b[49m \u001b[38;5;28;01mfor\u001b[39;00m _ \u001b[38;5;129;01min\u001b[39;00m \u001b[38;5;28mrange\u001b[39m(\u001b[38;5;241m11\u001b[39m)])\n",
      "\u001b[0;31mStopIteration\u001b[0m: 55"
     ]
    }
   ],
   "source": [
    "g = nats_bounded_accummulate(1, 11)\n",
    "print([next(g) for _ in range(11)])"
   ]
  },
  {
   "cell_type": "markdown",
   "id": "d4734ec2",
   "metadata": {},
   "source": [
    "Notice that the return value is passed as the `StopIteration`'s value. This shows that we can have generators that both yield values and return a value. If we want the returned value, \"all\" we need to do is to catch the `StopIteration` exception and retrieve the returned value from it."
   ]
  },
  {
   "cell_type": "code",
   "execution_count": 11,
   "id": "dc071874",
   "metadata": {},
   "outputs": [
    {
     "name": "stdout",
     "output_type": "stream",
     "text": [
      "The generator returned 55.\n"
     ]
    }
   ],
   "source": [
    "g = nats_bounded_accummulate(1, 11)\n",
    "try:\n",
    "    print([next(g) for _ in range(11)])\n",
    "except StopIteration as e:\n",
    "    print(f'The generator returned {e.value}.')"
   ]
  },
  {
   "cell_type": "markdown",
   "id": "51f37bc2",
   "metadata": {},
   "source": [
    "However, there is a simpler way to get to the returned value. The expression `yield from g`, where `g` is a generator, evaluates to the value returned by `g`."
   ]
  },
  {
   "cell_type": "code",
   "execution_count": 12,
   "id": "99557a0a",
   "metadata": {},
   "outputs": [
    {
     "data": {
      "text/plain": [
       "[1, 2, 3, 4, 5, 6, 7, 8, 9, 10, 55]"
      ]
     },
     "execution_count": 12,
     "metadata": {},
     "output_type": "execute_result"
    }
   ],
   "source": [
    "def from_generator(g):\n",
    "    value = yield from g\n",
    "    yield value\n",
    "    \n",
    "list(from_generator(nats_bounded_accummulate(1, 11)))"
   ]
  },
  {
   "cell_type": "markdown",
   "id": "01493337",
   "metadata": {},
   "source": [
    "But is there any practical use case for this? Here is an example of how it can be used. See [on_itertools_groupby](https://github.com/ecolban/SDPUG/tree/master/on_itertools_groupby) for a more elaborate example.\n",
    "\n",
    "**Example:**"
   ]
  },
  {
   "cell_type": "code",
   "execution_count": 13,
   "id": "d092fa7f",
   "metadata": {},
   "outputs": [
    {
     "name": "stdout",
     "output_type": "stream",
     "text": [
      "Group 1: 18 + 19 = 37\n",
      "Group 2: 20 + 21 + 22 + 23 + 24 + 25 + 26 + 27 + 28 + 29 = 245\n",
      "Group 3: 30 + 31 + 32 + 33 + 34 + 35 + 36 + 37 + 38 + 39 = 345\n",
      "Group 4: 40 + 41 + 42 + 43 + 44 = 210\n",
      "Total = 837\n"
     ]
    }
   ],
   "source": [
    "from itertools import groupby\n",
    "\n",
    "def sum_all(nums):\n",
    "    grand_total = 0\n",
    "    for k, g in groupby(nums, key=lambda n: n // 10):\n",
    "        grand_total += yield from sum_group(k, g)\n",
    "    yield f'Total = {grand_total}'\n",
    "    \n",
    "\n",
    "def sum_group(key, g):\n",
    "    a = list(g)\n",
    "    group_total = sum(a)\n",
    "    yield f\"Group {key}: {' + '.join(str(n) for n in a)} = {group_total}\"\n",
    "    return group_total\n",
    "\n",
    "for s in sum_all(range(18, 45)):\n",
    "    print(s)"
   ]
  },
  {
   "cell_type": "markdown",
   "id": "6b59cbac",
   "metadata": {},
   "source": [
    "### Afterthoughts\n",
    "\n",
    "But, why not just make these functions into ordinary functions?"
   ]
  },
  {
   "cell_type": "code",
   "execution_count": null,
   "id": "ad34a941",
   "metadata": {},
   "outputs": [],
   "source": [
    "from itertools import groupby\n",
    "\n",
    "def sum_all_with_side_effects(nums):\n",
    "    grand_total = 0\n",
    "    for k, g in groupby(nums, key=lambda n: n // 10):\n",
    "        grand_total += sum_group_with_side_effects(k, g)\n",
    "    print( f'Total = {grand_total}')\n",
    "    \n",
    "def sum_group_with_side_effects(key, g):\n",
    "    a = list(g)\n",
    "    group_total = sum(a)\n",
    "    print( f\"Group {key}: {' + '.join(str(n) for n in a)} = {group_total}\")\n",
    "    return group_total\n",
    "\n",
    "\n",
    "sum_all_with_side_effects(range(18, 45))"
   ]
  },
  {
   "cell_type": "markdown",
   "id": "4e93a01f",
   "metadata": {},
   "source": [
    "First, by having generator functions, we postpone the decision on what we do with the values that are yielded; we might write them to a file, join them into a string, or, like here, print them to the console.\n",
    "\n",
    "Second, a print statement is a side-effect. Functions that have no side-effects (called pure) are very easy to test; simply verify that for given input, they return the expected output.\n",
    "\n",
    "Eventually, one wants to see some effect. A program with no effects does nothing. So, the point is not to avoid all side-effects, but to push out the responsibility of producing them as far as possible (to the caller's caller's ... caller). In this example, we have pushed the responsibility of producing the desired effect to the top, which is so trivial that it requires no testing (unless one doesn't trust that `print` does what it is expected to do)."
   ]
  },
  {
   "cell_type": "markdown",
   "id": "7f413992",
   "metadata": {},
   "source": [
    "## Testing generator functions"
   ]
  },
  {
   "cell_type": "code",
   "execution_count": null,
   "id": "bab19fe5",
   "metadata": {},
   "outputs": [],
   "source": [
    "def test_sum_group_yield():\n",
    "    assert list(sum_group(1, [10, 13])) == ['Group 1: 10 + 13 = 23']\n",
    "\n",
    "\n",
    "def test_sum_group_return():\n",
    "    try:\n",
    "        g = sum_group(1, [10, 13])\n",
    "        while True:\n",
    "            next(g)\n",
    "    except StopIteration as e:\n",
    "        assert e.value == 23\n",
    "\n",
    "\n",
    "def test_sum_all_yield():\n",
    "    assert list(sum_all([])) == ['Total = 0']\n",
    "    assert list(sum_all([1, 2, 3])) == [\n",
    "        'Group 0: 1 + 2 + 3 = 6',\n",
    "        'Total = 6',\n",
    "    ]\n",
    "    assert list(sum_all([1, 3, 13, 16, 33])) == [\n",
    "        'Group 0: 1 + 3 = 4',\n",
    "        'Group 1: 13 + 16 = 29',\n",
    "        'Group 3: 33 = 33',\n",
    "        'Total = 66',\n",
    "    ]\n",
    "\n",
    "\n",
    "def test_sum_all_return():\n",
    "    try:\n",
    "        g = sum_all([])\n",
    "        while True:\n",
    "            next(g)\n",
    "    except StopIteration as e:\n",
    "        assert e.value is None\n",
    "\n",
    "\n",
    "test_sum_group_yield()\n",
    "test_sum_group_return()\n",
    "test_sum_all_yield()\n",
    "test_sum_all_return()"
   ]
  },
  {
   "cell_type": "markdown",
   "id": "4478958d",
   "metadata": {},
   "source": [
    "## Summary / Poll\n",
    "\n",
    "Did you already know ...\n",
    "\n",
    "1. about generator functions and generators? Yes = 6, No = 5\n",
    "2. you can have a `return` statement in a generator function? Yes = 5, No = 6\n",
    "3. generators return a value in addition to yielding values? Yes = 5, No = 6\n",
    "4. the returned value of a generator is passed in the `StopIteration`'s `value` attribute? Yes = 4, No = 7\n",
    "5. the expression `yield from g` evaluates to the value returned by `g`? Yes = 2, No = 9 \n",
    "6. generator functions can be used to avoid side-effects (i.e., the responsibility of producing desired effects is passed to the caller)? Yes = 3, No = 8"
   ]
  },
  {
   "cell_type": "code",
   "execution_count": null,
   "id": "4e48b9ec",
   "metadata": {},
   "outputs": [],
   "source": []
  }
 ],
 "metadata": {
  "kernelspec": {
   "display_name": "Python 3 (ipykernel)",
   "language": "python",
   "name": "python3"
  },
  "language_info": {
   "codemirror_mode": {
    "name": "ipython",
    "version": 3
   },
   "file_extension": ".py",
   "mimetype": "text/x-python",
   "name": "python",
   "nbconvert_exporter": "python",
   "pygments_lexer": "ipython3",
   "version": "3.9.5"
  }
 },
 "nbformat": 4,
 "nbformat_minor": 5
}
