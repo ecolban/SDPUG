{
 "cells": [
  {
   "cell_type": "markdown",
   "metadata": {},
   "source": [
    "# Breaking (is) Bad...\n",
    "\n",
    "   **...or 5 good reasons why you should not break out of a loop**\n",
    "\n",
    " Presentation to San Diego Python User Group by Erik Colban\n",
    " \n",
    " Date: "
   ]
  },
  {
   "cell_type": "markdown",
   "metadata": {},
   "source": [
    "### Chapter 1: It's a blatant lie!\n",
    "\n",
    "Consider a loop of the following form:\n",
    "```Python\n",
    "while True:\n",
    "    ...\n",
    "    if something:\n",
    "        break\n",
    "    ...\n",
    " ```\n",
    " \n",
    "This is misleading the reader. First you say that you are going to loop forever, but then later, you're not. The break statement is like the \"Not\" in a not-joke: \"I'm gonna loop forever...Not!\" Very funny! \n",
    "\n",
    "You may think: This is not a lie. It's an *idiom*! It's become an idiom because people write code for the computer (or interpreter), not the human reader. The computer doesn't care if you lie to it, and that's why it's become acceptable. Stop writing for the computer and start writing for the human reader!\n",
    "\n",
    "It is even more deceptive when you break out of a for-loop. \n",
    "\n",
    "```Python\n",
    "for n in range(10):\n",
    "    ...\n",
    "    if something:\n",
    "        break\n",
    "    ...\n",
    "```\n",
    "In a `while True` case, the reader can sort of guess that a break statement is coming, but in a for loop it's unexpected.\n",
    "\n",
    "Be upfront and honest; tell the reader what's ahead. _Don't lie!_"
   ]
  },
  {
   "cell_type": "markdown",
   "metadata": {},
   "source": [
    "### Chapter 2: Help! How do I get out of here?\n",
    "\n",
    "As a code reader, when a loop is not exited in the normal way, I have the extra burden of figuring out where the loop is exited.\n",
    "\n",
    "+ What am I looking for? \n",
    "    - A break statement? \n",
    "    - Maybe two or more? \n",
    "    - A return statement? \n",
    "    - An exception? \n",
    "    - Or a call to a function that raises an exception?\n",
    "    - Will any of the exit points always be reached?\n",
    "    - Which of the exit points will be reached and in which cases?\n",
    " \n",
    "Don't give your code reviewer extra work!"
   ]
  },
  {
   "cell_type": "markdown",
   "metadata": {},
   "source": [
    "### Chapter 3: An unfamiliar place\n",
    "\n",
    "Regular while- and for-loops are familiar to most programmers. When breaking out of a loop, a new structure is introduced.\n",
    "\n",
    "- How does this new structure work?\n",
    "\n",
    "Some languages have do-while loops\n",
    "\n",
    "```Java\n",
    "do {\n",
    "    do_some_stuff\n",
    "} while(condition)\n",
    "```\n",
    "Python doesn't have such loop. One can easily write something in Python that has the same effect:\n",
    "\n",
    "```Python\n",
    "while True:\n",
    "    do_some_stuff\n",
    "    if condition:\n",
    "        break\n",
    "```\n",
    "However, it turns out that in languages that do have do-while loops, they are rarely used. Programmers are simply not that used to them. If a do-while is unfamiliar, imagine a loop where you can break out almost anywhere and in almost any manner: break, return, exception, etc.  \n",
    "\n",
    "Keep to familiar structures! Use plain old regular loops!"
   ]
  },
  {
   "cell_type": "markdown",
   "metadata": {},
   "source": [
    "### Chapter 4: Break breaks the loop invariant\n",
    "\n",
    "Most people think that loop invariants are only for academics and people who write 1000 page correctness proofs for the simplest of programs. Real programmers use testing! Isn't that true?\n",
    "\n",
    "But invariants can be useful in much more modest situations. Consider the following short function that calculates the n'th Fibonacci number. Just to be clear:\n",
    "\n",
    "1. fib(0) = 1\n",
    "2. fib(1) = 1\n",
    "3. fib(n) = fib(n - 2) + fib(n - 1), for n >= 2"
   ]
  },
  {
   "cell_type": "code",
   "execution_count": null,
   "metadata": {},
   "outputs": [],
   "source": [
    "def fib(n):\n",
    "    a, b = 0, 1\n",
    "    for i in range(n):\n",
    "        a, b = b, a + b\n",
    "        # a == fib(i), b == fib(i + 1)\n",
    "    return b"
   ]
  },
  {
   "cell_type": "markdown",
   "metadata": {},
   "source": [
    "This is a typical program that is prone to one-off error. \n",
    "\n",
    "- Should `a` and `b` have been initialized differently?\n",
    "- Should one have looped over `range(n + 1)` instead?\n",
    "- Should `a` have been returned instead?\n",
    "\n",
    "A loop invariant is captured in a comment; it's relative easy to convince oneself that it's true. At the exit of the loop `i == n - 1`. Put that together with the loop invariant and you have `b == fib(n)`.\n",
    "\n",
    "Get used to such reasoning and your programs are less prone to one-off errors and others. With a little bit of practice, you can do it in your head.  But throw in a break statement, and it messes up everything!"
   ]
  },
  {
   "cell_type": "code",
   "execution_count": null,
   "metadata": {},
   "outputs": [],
   "source": [
    "[fib(i) for i in range(10)]"
   ]
  },
  {
   "cell_type": "markdown",
   "metadata": {},
   "source": [
    "### Chapter 5: There must be a better way!\n",
    "\n",
    "(Search \"raymond hettinger there must be a better way\")\n",
    "\n",
    "Python provides some built-in functions that make it easy in many cases to avoid breaking out of a loop. Here are some examples:"
   ]
  },
  {
   "cell_type": "markdown",
   "metadata": {},
   "source": [
    "#### Example 1: Searching for an element in an iterable"
   ]
  },
  {
   "cell_type": "code",
   "execution_count": null,
   "metadata": {},
   "outputs": [],
   "source": [
    "def find_element_in_iterable_that_matches(iterable, matcher):\n",
    "    for x in iterable:\n",
    "        if matcher(x):\n",
    "            return x\n",
    "    return None"
   ]
  },
  {
   "cell_type": "code",
   "execution_count": null,
   "metadata": {},
   "outputs": [],
   "source": [
    "find_element_in_iterable_that_matches([1, 2, 3, 5, 8, 9], lambda x: x % 5 == 0)"
   ]
  },
  {
   "cell_type": "code",
   "execution_count": null,
   "metadata": {},
   "outputs": [],
   "source": [
    "next((x for x in [1, 2, 3, 5, 8, 9] if x % 5 == 0), None)"
   ]
  },
  {
   "cell_type": "markdown",
   "metadata": {},
   "source": [
    "#### Example 2: Checking that an iterable contains an element that satisfies a condition"
   ]
  },
  {
   "cell_type": "code",
   "execution_count": null,
   "metadata": {},
   "outputs": [],
   "source": [
    "def some_element_satisfies(iterable, condition):\n",
    "    for x in iterable:\n",
    "        if condition(x):\n",
    "            return True\n",
    "    return False"
   ]
  },
  {
   "cell_type": "code",
   "execution_count": null,
   "metadata": {},
   "outputs": [],
   "source": [
    "some_element_satisfies([1, 2, 3, 5, 8, 9], lambda x: x % 7 == 0)"
   ]
  },
  {
   "cell_type": "code",
   "execution_count": null,
   "metadata": {},
   "outputs": [],
   "source": [
    "any(x % 7 == 0 for x in [1, 2, 3, 5, 8, 9])"
   ]
  },
  {
   "cell_type": "markdown",
   "metadata": {},
   "source": [
    "#### Example 3: Checking that all elements in an iterable satisfy a condition "
   ]
  },
  {
   "cell_type": "code",
   "execution_count": null,
   "metadata": {},
   "outputs": [],
   "source": [
    "def all_elements_satify(iterable, condition):\n",
    "    for x in iterable:\n",
    "        if not condition(x):\n",
    "            return False\n",
    "    return True"
   ]
  },
  {
   "cell_type": "code",
   "execution_count": null,
   "metadata": {},
   "outputs": [],
   "source": [
    "all_elements_satify([1, 2, 3, 5, 8, 9], lambda x: x < 10)"
   ]
  },
  {
   "cell_type": "code",
   "execution_count": null,
   "metadata": {},
   "outputs": [],
   "source": [
    "all(x < 10 for x in [1, 2, 3, 5, 8, 9])"
   ]
  },
  {
   "cell_type": "markdown",
   "metadata": {},
   "source": [
    "#### Example 4: Searching in a tree"
   ]
  },
  {
   "cell_type": "code",
   "execution_count": null,
   "metadata": {},
   "outputs": [],
   "source": [
    "import breaking_bad"
   ]
  },
  {
   "cell_type": "code",
   "execution_count": null,
   "metadata": {},
   "outputs": [],
   "source": [
    "tree = breaking_bad.make_random_tree(4)\n",
    "print(tree)"
   ]
  },
  {
   "cell_type": "code",
   "execution_count": null,
   "metadata": {},
   "outputs": [],
   "source": [
    "from collections import deque\n",
    "\n",
    "def breadth_first_search(tree, condition):\n",
    "    to_do_queue = deque()\n",
    "    to_do_queue.append(tree)\n",
    "    while to_do_queue:\n",
    "        subtree = to_do_queue.popleft()\n",
    "        if condition(subtree.root):\n",
    "            return subtree.root\n",
    "        to_do_queue.extend(subtree.children)\n",
    "    return None"
   ]
  },
  {
   "cell_type": "code",
   "execution_count": null,
   "metadata": {},
   "outputs": [],
   "source": [
    "breadth_first_search(tree, lambda x: x[0] in 'aeiou')"
   ]
  },
  {
   "cell_type": "markdown",
   "metadata": {},
   "source": [
    "Separate the walking from the searching."
   ]
  },
  {
   "cell_type": "code",
   "execution_count": null,
   "metadata": {},
   "outputs": [],
   "source": [
    "def breadth_first_iterator(tree):\n",
    "    to_do_queue = deque()\n",
    "    to_do_queue.append(tree)\n",
    "    while to_do_queue:\n",
    "        subtree = to_do_queue.popleft()\n",
    "        yield subtree.root\n",
    "        to_do_queue.extend(subtree.children)\n",
    "    return None"
   ]
  },
  {
   "cell_type": "code",
   "execution_count": null,
   "metadata": {},
   "outputs": [],
   "source": [
    "next((x for x in breadth_first_iterator(tree) if x[0] in 'aeiou'), None)"
   ]
  },
  {
   "cell_type": "markdown",
   "metadata": {},
   "source": [
    "Not only have we gotten rid of a while loop that we break out of, but we also have a reusable iterator."
   ]
  },
  {
   "cell_type": "code",
   "execution_count": null,
   "metadata": {},
   "outputs": [],
   "source": [
    "any('w' in x for x in breadth_first_iterator(tree))"
   ]
  },
  {
   "cell_type": "code",
   "execution_count": null,
   "metadata": {},
   "outputs": [],
   "source": [
    "sum(1 for _ in breadth_first_iterator(tree))"
   ]
  },
  {
   "cell_type": "markdown",
   "metadata": {},
   "source": [
    "#### Example 5: Processing a binary file one chunk at the time"
   ]
  },
  {
   "cell_type": "code",
   "execution_count": null,
   "metadata": {},
   "outputs": [],
   "source": [
    "from breaking_bad import process_data\n",
    "\n",
    "CHUNKSIZE = 8192\n",
    "\n",
    "with open('breaking_bad.py', mode='rb') as f:\n",
    "    while True:\n",
    "        chunk = f.read(CHUNKSIZE)\n",
    "        if chunk == b'':\n",
    "            break\n",
    "        process_data(chunk)"
   ]
  },
  {
   "cell_type": "markdown",
   "metadata": {},
   "source": [
    "Use Python's built-in `iter` function to return an iterator that iterates over all the chunks:"
   ]
  },
  {
   "cell_type": "code",
   "execution_count": null,
   "metadata": {},
   "outputs": [],
   "source": [
    "CHUNKSIZE = 8192\n",
    "\n",
    "with open('breaking_bad.py', mode='rb') as f:\n",
    "    for chunk in iter(lambda: f.read(CHUNKSIZE), b''):\n",
    "        process_data(chunk)"
   ]
  },
  {
   "cell_type": "markdown",
   "metadata": {},
   "source": [
    "### Conclusion\n",
    "\n",
    "*Before you break out of a loop: Think! There must be a better way!*"
   ]
  }
 ],
 "metadata": {
  "kernelspec": {
   "display_name": "Python 3",
   "language": "python",
   "name": "python3"
  },
  "language_info": {
   "codemirror_mode": {
    "name": "ipython",
    "version": 3
   },
   "file_extension": ".py",
   "mimetype": "text/x-python",
   "name": "python",
   "nbconvert_exporter": "python",
   "pygments_lexer": "ipython3",
   "version": "3.8.6"
  }
 },
 "nbformat": 4,
 "nbformat_minor": 4
}
