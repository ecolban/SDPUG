{
 "cells": [
  {
   "cell_type": "markdown",
   "metadata": {},
   "source": [
    "# Breaking (is) Bad...\n",
    "\n",
    "   **...or 5 good reasons why you should not break out of a loop**\n",
    "\n",
    " Presentation to San Diego Python User Group by Erik Colban\n",
    " \n",
    " Date: November 19, 2020\n",
    " \n",
    " (Available at https://github.com/ecolban/SDPUG/tree/master/breaking_bad)"
   ]
  },
  {
   "cell_type": "markdown",
   "metadata": {},
   "source": [
    "### Chapter 1: It's a blatant lie!\n",
    "\n",
    "Consider a loop of the following form:\n",
    "```Python\n",
    "while True:\n",
    "    ...\n",
    "    if something:\n",
    "        break\n",
    "    ...\n",
    " ```\n",
    " \n",
    "This is misleading the reader. First you say that you are going to loop forever, but then later, you're not. The break statement is like the \"Not\" in a not-joke: \"I'm gonna loop forever...Not!\" Very funny! \n",
    "\n",
    "You may think: This is not a lie. It's an *idiom*! It's become an idiom because people write code for the computer (or interpreter), not the human reader. The computer doesn't care if you lie to it, and that's why it's become acceptable. Stop writing for the computer and start writing for the human reader!\n",
    "\n",
    "It is even more deceptive when you break out of a for-loop. \n",
    "\n",
    "```Python\n",
    "for n in range(10):\n",
    "    ...\n",
    "    if something:\n",
    "        break\n",
    "    ...\n",
    "```\n",
    "In a `while True` case, the reader can sort of guess that a break statement is coming, but in a for loop it's unexpected.\n",
    "\n",
    "Be upfront and honest; tell the reader what's ahead. _Don't lie!_"
   ]
  },
  {
   "cell_type": "markdown",
   "metadata": {},
   "source": [
    "### Chapter 2: Help! How do I get out of here?\n",
    "\n",
    "As a code reader, when a loop is not exited in the normal way, I have the extra burden of figuring out where the loop is exited.\n",
    "\n",
    "+ What am I looking for? \n",
    "    - A break statement? \n",
    "    - Maybe two or more? \n",
    "    - A return statement? \n",
    "    - An exception? \n",
    "    - Or a call to a function that raises an exception?\n",
    "    - Will an exit point always be reached?\n",
    "    - Which of the exit points will be reached and in which cases?\n",
    " \n",
    "Don't give your code reviewer extra work!"
   ]
  },
  {
   "cell_type": "markdown",
   "metadata": {},
   "source": [
    "### Chapter 3: An unfamiliar place\n",
    "\n",
    "Regular while- and for-loops are familiar to most programmers. When breaking out of a loop, a new structure is introduced.\n",
    "\n",
    "- How does this new structure work?\n",
    "\n",
    "Some languages have do-while loops\n",
    "\n",
    "```Java\n",
    "do {\n",
    "    do_some_stuff\n",
    "} while(condition)\n",
    "```\n",
    "Python doesn't have such loop. One can easily write something in Python that has the same effect:\n",
    "\n",
    "```Python\n",
    "while True:\n",
    "    do_some_stuff\n",
    "    if condition:\n",
    "        break\n",
    "```\n",
    "However, it turns out that in languages that do have do-while loops, they are rarely used. Programmers are simply not that used to them. If a do-while is unfamiliar, imagine a loop where you can break out almost anywhere and in almost any manner: break, return, exception, etc.  \n",
    "\n",
    "Keep to familiar structures! Use plain old regular loops!"
   ]
  },
  {
   "cell_type": "markdown",
   "metadata": {},
   "source": [
    "### Chapter 4: Fragile! Loop invariant inside\n",
    "\n",
    "If you break out of a loop, you break the *loop invariant*. \n",
    "\n",
    "Loop invariants are not only used by academics and people who write 1000 page correctness proofs. Invariants can be useful in every day programming. Consider the following short function that calculates the n'th Fibonacci number. \n",
    "\n",
    "Just to be clear:\n",
    "\n",
    "1. fib(0) = 1\n",
    "2. fib(1) = 1\n",
    "3. fib(n) = fib(n - 2) + fib(n - 1), for n >= 2"
   ]
  },
  {
   "cell_type": "code",
   "execution_count": 24,
   "metadata": {},
   "outputs": [],
   "source": [
    "def fib(n):\n",
    "    a, b = 1, 1\n",
    "    for i in range(n - 1):\n",
    "        a, b = b, a + b\n",
    "        # a == fib(i + 1) and b == fib(i + 2)\n",
    "    return b"
   ]
  },
  {
   "cell_type": "markdown",
   "metadata": {},
   "source": [
    "This is a typical program that is prone to one-off error. \n",
    "\n",
    "- Should `a` and `b` have been initialized differently?\n",
    "- Should the range have been `range(n)` instead?\n",
    "- Should `a` have been returned instead?\n",
    "- Do we need to handle the special cases where `n` is 0 or 1?\n",
    "\n",
    "A loop invariant is captured in a comment; it's relative easy to convince oneself that it's true. At the exit of the loop, `i == n - 1`. Put that together with the loop invariant and you have `b == fib(n)`.\n",
    "\n",
    "Get used to such reasoning and your programs are less prone to one-off errors and others. With a little bit of practice, you can do it in your head.  But throw in a break statement, and it messes up everything!"
   ]
  },
  {
   "cell_type": "code",
   "execution_count": 25,
   "metadata": {},
   "outputs": [
    {
     "data": {
      "text/plain": [
       "[1, 1, 2, 3, 5, 8, 13, 21, 34, 55]"
      ]
     },
     "execution_count": 25,
     "metadata": {},
     "output_type": "execute_result"
    }
   ],
   "source": [
    "[fib(i) for i in range(10)]"
   ]
  },
  {
   "cell_type": "markdown",
   "metadata": {},
   "source": [
    "### Chapter 5: There must be a better way!\n",
    "\n",
    "(Search \"raymond hettinger there must be a better way\")\n",
    "\n",
    "Python provides some built-in functions that make it easy in many cases to avoid breaking out of a loop. Here are some examples:"
   ]
  },
  {
   "cell_type": "markdown",
   "metadata": {},
   "source": [
    "#### Example 1: Searching for an element in an iterable"
   ]
  },
  {
   "cell_type": "code",
   "execution_count": 26,
   "metadata": {},
   "outputs": [
    {
     "data": {
      "text/plain": [
       "15"
      ]
     },
     "execution_count": 26,
     "metadata": {},
     "output_type": "execute_result"
    }
   ],
   "source": [
    "def find_element_in_iterable_that_matches(iterable, condition):\n",
    "    for x in iterable:\n",
    "        if condition(x):\n",
    "            return x\n",
    "    return None\n",
    "\n",
    "find_element_in_iterable_that_matches([1, 2, 3, 15, 8, 9], lambda x: x % 5 == 0)"
   ]
  },
  {
   "cell_type": "code",
   "execution_count": 27,
   "metadata": {},
   "outputs": [
    {
     "data": {
      "text/plain": [
       "15"
      ]
     },
     "execution_count": 27,
     "metadata": {},
     "output_type": "execute_result"
    }
   ],
   "source": [
    "next((x for x in [1, 2, 3, 15, 8, 9] if x % 5 == 0), None)"
   ]
  },
  {
   "cell_type": "markdown",
   "metadata": {},
   "source": [
    "#### Example 2: Checking that an iterable contains an element that satisfies a condition"
   ]
  },
  {
   "cell_type": "code",
   "execution_count": 28,
   "metadata": {},
   "outputs": [
    {
     "data": {
      "text/plain": [
       "False"
      ]
     },
     "execution_count": 28,
     "metadata": {},
     "output_type": "execute_result"
    }
   ],
   "source": [
    "def any_element_satisfies(iterable, condition):\n",
    "    for x in iterable:\n",
    "        if condition(x):\n",
    "            return True\n",
    "    return False\n",
    "\n",
    "any_element_satisfies([1, 2, 3, 15, 8, 9], lambda x: x % 7 == 0)"
   ]
  },
  {
   "cell_type": "code",
   "execution_count": 29,
   "metadata": {},
   "outputs": [
    {
     "data": {
      "text/plain": [
       "False"
      ]
     },
     "execution_count": 29,
     "metadata": {},
     "output_type": "execute_result"
    }
   ],
   "source": [
    "any(x % 7 == 0 for x in [1, 2, 3, 15, 8, 9])"
   ]
  },
  {
   "cell_type": "markdown",
   "metadata": {},
   "source": [
    "#### Example 3: Checking that all elements in an iterable satisfy a condition "
   ]
  },
  {
   "cell_type": "code",
   "execution_count": 30,
   "metadata": {},
   "outputs": [
    {
     "data": {
      "text/plain": [
       "True"
      ]
     },
     "execution_count": 30,
     "metadata": {},
     "output_type": "execute_result"
    }
   ],
   "source": [
    "def all_elements_satify(iterable, condition):\n",
    "    for x in iterable:\n",
    "        if not condition(x):\n",
    "            return False\n",
    "    return True\n",
    "\n",
    "all_elements_satify([1, 2, 3, 5, 8, 9], lambda x: x < 10)"
   ]
  },
  {
   "cell_type": "code",
   "execution_count": 31,
   "metadata": {},
   "outputs": [
    {
     "data": {
      "text/plain": [
       "True"
      ]
     },
     "execution_count": 31,
     "metadata": {},
     "output_type": "execute_result"
    }
   ],
   "source": [
    "all(x < 10 for x in [1, 2, 3, 5, 8, 9])"
   ]
  },
  {
   "cell_type": "markdown",
   "metadata": {},
   "source": [
    "#### Example 4: Searching in a tree"
   ]
  },
  {
   "cell_type": "code",
   "execution_count": 32,
   "metadata": {},
   "outputs": [],
   "source": [
    "from dataclasses import dataclass\n",
    "from src.breaking_bad import make_random_tree\n",
    "\n",
    "\n",
    "@dataclass(frozen=True)\n",
    "class TreeNode:\n",
    "    root: str\n",
    "    children: tuple"
   ]
  },
  {
   "cell_type": "code",
   "execution_count": 33,
   "metadata": {},
   "outputs": [
    {
     "name": "stdout",
     "output_type": "stream",
     "text": [
      "length\n",
      "├── above\n",
      "│   ├── document\n",
      "│   │   ├── should\n",
      "│   │   ├── where\n",
      "│   │   └── graphics\n",
      "│   └── forum\n",
      "│       ├── number\n",
      "│       └── against\n",
      "├── football\n",
      "│   ├── shoes\n",
      "│   │   ├── indian\n",
      "│   │   ├── science\n",
      "│   │   └── products\n",
      "│   └── sales\n",
      "│       └── progress\n",
      "└── hospital\n",
      "    ├── across\n",
      "    │   └── texas\n",
      "    ├── desktop\n",
      "    │   └── purchase\n",
      "    └── entire\n",
      "        ├── radio\n",
      "        └── become\n"
     ]
    }
   ],
   "source": [
    "tree = make_random_tree(4)\n",
    "print(tree)"
   ]
  },
  {
   "cell_type": "code",
   "execution_count": 34,
   "metadata": {},
   "outputs": [
    {
     "data": {
      "text/plain": [
       "'above'"
      ]
     },
     "execution_count": 34,
     "metadata": {},
     "output_type": "execute_result"
    }
   ],
   "source": [
    "from collections import deque\n",
    "\n",
    "def starts_with_vowel(word):\n",
    "    return word[0] in 'aeiou'\n",
    "\n",
    "def breadth_first_search(tree, condition):\n",
    "    to_do_queue = deque()\n",
    "    to_do_queue.append(tree)\n",
    "    while to_do_queue:\n",
    "        subtree = to_do_queue.popleft()\n",
    "        if condition(subtree.root):\n",
    "            return subtree.root\n",
    "        to_do_queue.extend(subtree.children)\n",
    "    return None\n",
    "\n",
    "breadth_first_search(tree, starts_with_vowel)"
   ]
  },
  {
   "cell_type": "markdown",
   "metadata": {},
   "source": [
    "Separate the walking from the searching:"
   ]
  },
  {
   "cell_type": "code",
   "execution_count": 35,
   "metadata": {},
   "outputs": [
    {
     "data": {
      "text/plain": [
       "'above'"
      ]
     },
     "execution_count": 35,
     "metadata": {},
     "output_type": "execute_result"
    }
   ],
   "source": [
    "def breadth_first_iterator(tree):\n",
    "    to_do_queue = deque()\n",
    "    to_do_queue.append(tree)\n",
    "    while to_do_queue:\n",
    "        subtree = to_do_queue.popleft()\n",
    "        yield subtree.root\n",
    "        to_do_queue.extend(subtree.children)\n",
    "    return None\n",
    "\n",
    "def breadth_first_search_alt(tree, condition):\n",
    "    return next(filter(starts_with_vowel, breadth_first_iterator(tree)), None)\n",
    "\n",
    "breadth_first_search_alt(tree, starts_with_vowel)"
   ]
  },
  {
   "cell_type": "code",
   "execution_count": 36,
   "metadata": {},
   "outputs": [
    {
     "data": {
      "text/plain": [
       "True"
      ]
     },
     "execution_count": 36,
     "metadata": {},
     "output_type": "execute_result"
    }
   ],
   "source": [
    "def contains_node(tree, condition):\n",
    "    return any(condition(x) for x in breadth_first_iterator(tree))\n",
    "    \n",
    "contains_node(tree, lambda x: 'w' in x)"
   ]
  },
  {
   "cell_type": "code",
   "execution_count": 37,
   "metadata": {},
   "outputs": [
    {
     "data": {
      "text/plain": [
       "24"
      ]
     },
     "execution_count": 37,
     "metadata": {},
     "output_type": "execute_result"
    }
   ],
   "source": [
    "def num_nodes(tree):\n",
    "    return sum(1 for _ in breadth_first_iterator(tree))\n",
    "\n",
    "num_nodes(tree)"
   ]
  },
  {
   "cell_type": "markdown",
   "metadata": {},
   "source": [
    "#### Example 5: Processing a binary file one chunk at the time"
   ]
  },
  {
   "cell_type": "code",
   "execution_count": 38,
   "metadata": {},
   "outputs": [],
   "source": [
    "def process_data(chunk):\n",
    "    print(len(chunk))"
   ]
  },
  {
   "cell_type": "code",
   "execution_count": 39,
   "metadata": {},
   "outputs": [
    {
     "name": "stdout",
     "output_type": "stream",
     "text": [
      "4096\n",
      "4096\n",
      "4096\n",
      "3336\n"
     ]
    }
   ],
   "source": [
    "CHUNKSIZE = 4096\n",
    "\n",
    "with open('breaking_bad.ipynb', mode='rb') as f:\n",
    "    while True:\n",
    "        chunk = f.read(CHUNKSIZE)\n",
    "        if chunk == b'':\n",
    "            break\n",
    "        process_data(chunk)"
   ]
  },
  {
   "cell_type": "markdown",
   "metadata": {},
   "source": [
    "A \"hidden gem\" in Python is (an overloaded version of) the built-in `iter` function. It can be used to return an iterator that iterates over all the chunks:"
   ]
  },
  {
   "cell_type": "code",
   "execution_count": 40,
   "metadata": {},
   "outputs": [
    {
     "name": "stdout",
     "output_type": "stream",
     "text": [
      "4096\n",
      "4096\n",
      "4096\n",
      "3336\n"
     ]
    }
   ],
   "source": [
    "CHUNKSIZE = 4096\n",
    "\n",
    "with open('breaking_bad.ipynb', mode='rb') as f:\n",
    "    for chunk in iter(lambda: f.read(CHUNKSIZE), b''):\n",
    "        process_data(chunk)"
   ]
  },
  {
   "cell_type": "markdown",
   "metadata": {},
   "source": [
    "### Conclusion\n",
    "\n",
    "Breaking out of loop should evoke a smell and get you to think: Is there a better way? Getting rid of that smell may result in code that is more:\n",
    "1. readable\n",
    "2. succinct\n",
    "4. functional\n",
    "5. declarative\n",
    "6. in short,...more pythonic!"
   ]
  }
 ],
 "metadata": {
  "kernelspec": {
   "display_name": "Python 3",
   "language": "python",
   "name": "python3"
  },
  "language_info": {
   "codemirror_mode": {
    "name": "ipython",
    "version": 3
   },
   "file_extension": ".py",
   "mimetype": "text/x-python",
   "name": "python",
   "nbconvert_exporter": "python",
   "pygments_lexer": "ipython3",
   "version": "3.8.6"
  }
 },
 "nbformat": 4,
 "nbformat_minor": 4
}
