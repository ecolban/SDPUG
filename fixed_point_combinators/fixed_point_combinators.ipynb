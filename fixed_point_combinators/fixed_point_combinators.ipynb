{
 "cells": [
  {
   "cell_type": "markdown",
   "metadata": {},
   "source": [
    "## Practical uses of fixed-point combinators\n",
    "\n",
    "Presentation to the San Diego Python User Group on 2021-01-28\n",
    "\n",
    "This presentation is available at https://github.com/ecolban/SDPUG/fixed_point_combinators"
   ]
  },
  {
   "cell_type": "markdown",
   "metadata": {},
   "source": [
    "## Problem statement\n",
    "\n",
    "Assume I want to log calls to a function. In the log, I want the time of the call, the name of the function called and the values of the arguments passed in the call. For this purpose, I can define a higher order function that I apply to the function called."
   ]
  },
  {
   "cell_type": "code",
   "execution_count": null,
   "metadata": {},
   "outputs": [],
   "source": [
    "from functools import wraps\n",
    "from datetime import datetime\n",
    "\n",
    "def log(f):\n",
    "    @wraps(f)\n",
    "    def h(*args, **kwargs):\n",
    "        all_args = [repr(a) for a in args]\n",
    "        all_args += [f\"{k}={repr(v)}\" for k, v in kwargs.items()]\n",
    "        print(f\"{datetime.utcnow()}: {f.__name__}({', '.join(all_args)})\")\n",
    "        return f(*args, **kwargs)\n",
    "\n",
    "    return h\n"
   ]
  },
  {
   "cell_type": "markdown",
   "metadata": {},
   "source": [
    "To illustrate this log function, I can apply it to a call to `re.match`:"
   ]
  },
  {
   "cell_type": "code",
   "execution_count": null,
   "metadata": {},
   "outputs": [],
   "source": [
    "import re\n",
    "\n",
    "pattern = r\"\\d{4}-\\d{2}-\\d{2}\"\n",
    "date = \"2021-01-13T18:36:21\"\n",
    "re.match(pattern, date)"
   ]
  },
  {
   "cell_type": "code",
   "execution_count": null,
   "metadata": {},
   "outputs": [],
   "source": [
    "log(re.match)(pattern, date)"
   ]
  },
  {
   "cell_type": "markdown",
   "metadata": {},
   "source": [
    "Let's define a Fibonacci function and apply `log` to that function:"
   ]
  },
  {
   "cell_type": "code",
   "execution_count": null,
   "metadata": {},
   "outputs": [],
   "source": [
    "def fib0(n):\n",
    "    return 1 if n < 2 else fib0(n - 1) + fib0(n - 2)"
   ]
  },
  {
   "cell_type": "code",
   "execution_count": null,
   "metadata": {},
   "outputs": [],
   "source": [
    "log(fib0)(5)"
   ]
  },
  {
   "cell_type": "markdown",
   "metadata": {},
   "source": [
    "Notice that the recursive calls to fib are not logged. If I want to log _every_ call to `fib`, I can use the `log` function as a decorator:"
   ]
  },
  {
   "cell_type": "code",
   "execution_count": null,
   "metadata": {},
   "outputs": [],
   "source": [
    "@log\n",
    "def fib0(n):\n",
    "    return 1 if n < 2 else fib0(n - 1) + fib0(n - 2)"
   ]
  },
  {
   "cell_type": "code",
   "execution_count": null,
   "metadata": {},
   "outputs": [],
   "source": [
    "fib0(5)"
   ]
  },
  {
   "cell_type": "markdown",
   "metadata": {},
   "source": [
    "But it may be impractical to log _every_ call. If I were to log a call to `fib(20)`, I would get pages and pages of logs. What I want is:\n",
    "+ to selectively log certain calls of `fib`, but when I do so, I want the recursive calls to be logged too.\n",
    "+ a general solution that can be applied to other recursive functions"
   ]
  },
  {
   "cell_type": "markdown",
   "metadata": {},
   "source": [
    "## Another way of writing recursive functions\n",
    "\n",
    "### Example 1: Fibonacci\n",
    "\n",
    "Let's redefine a Fibonacci function while trying to avoid recursion:"
   ]
  },
  {
   "cell_type": "code",
   "execution_count": null,
   "metadata": {},
   "outputs": [],
   "source": [
    "def fib_inner(n):\n",
    "    return 1 if n < 2 else f(n - 1) + f(n - 2)"
   ]
  },
  {
   "cell_type": "markdown",
   "metadata": {},
   "source": [
    "Notice that I have replaced the recursive calls to `fib_inner` with calls to a free variable `f`. To bind this variable, I place the definition of `fib_inner` inside a the definition of a function `fib_outer`, which takes `f` as argument, and hence, binds `f`:"
   ]
  },
  {
   "cell_type": "code",
   "execution_count": null,
   "metadata": {},
   "outputs": [],
   "source": [
    "def fib_outer(f):\n",
    "    def fib_inner(n):\n",
    "        return 1 if n < 2 else f(n - 1) + f(n - 2)\n",
    "    \n",
    "    return fib_inner"
   ]
  },
  {
   "cell_type": "markdown",
   "metadata": {},
   "source": [
    "Now, all I need to do is to call `fib_outer` with the \"correct\" value of `f` so that `fib_outer` returns the Fibonacci function. But, which value of `f` is that?\n",
    "\n",
    "Calling `fib_outer` with `fib_inner` as the value of `f` would make `fib_inner` a recursive implementation of the Fibonacci function. But `fib_inner` is local to `fib_outer` and not accessible outside `fib_outer`. \n",
    "\n",
    "But `fib_inner` is returned by `fib_outer`, so the \"correct\" function to pass to `fib_outer` is the function that `fib_outer` would return if `fib_outer` were called with that function as argument! 🤔\n",
    "\n",
    "If we call the \"correct\" function `fib`, we have:"
   ]
  },
  {
   "cell_type": "code",
   "execution_count": null,
   "metadata": {},
   "outputs": [],
   "source": [
    "fib = fib_outer(fib)"
   ]
  },
  {
   "cell_type": "markdown",
   "metadata": {},
   "source": [
    "Let's re-write the right-hand as a lambda expression."
   ]
  },
  {
   "cell_type": "code",
   "execution_count": null,
   "metadata": {},
   "outputs": [],
   "source": [
    "fib = lambda n: fib_outer(fib)(n)"
   ]
  },
  {
   "cell_type": "code",
   "execution_count": null,
   "metadata": {},
   "outputs": [],
   "source": [
    "[fib(n) for n  in range(11)]"
   ]
  },
  {
   "cell_type": "markdown",
   "metadata": {},
   "source": [
    "Magic!!\n",
    "\n",
    "What's happened is that `fib = lambda n: fib_outer(fib)(n)` is not a regular assignment, but a recursive function definition. We can re-write this as a `def`:"
   ]
  },
  {
   "cell_type": "code",
   "execution_count": null,
   "metadata": {},
   "outputs": [],
   "source": [
    "def fib(n):\n",
    "    return fib_outer(fib)(n)"
   ]
  },
  {
   "cell_type": "markdown",
   "metadata": {},
   "source": [
    "Whenever we have a function $F$ and a value $x$ such that $F(x) = x$, then $x$ is said to be a _fixed-point_ of $F$. Notice that `fib` is a fixed-point of `fib_outer`."
   ]
  },
  {
   "cell_type": "code",
   "execution_count": null,
   "metadata": {},
   "outputs": [],
   "source": [
    "all(fib(n) == fib_outer(fib)(n) for n in range(20))"
   ]
  },
  {
   "cell_type": "markdown",
   "metadata": {},
   "source": [
    "### Example 2: Factorial\n",
    "\n",
    "Let's repeat this exercise with another function: _factorial_\n",
    "\n",
    "First, define `fact_outer` and `fact_inner`:"
   ]
  },
  {
   "cell_type": "code",
   "execution_count": null,
   "metadata": {},
   "outputs": [],
   "source": [
    "def fact_outer(f):\n",
    "    def fact_inner(n):\n",
    "        return 1 if n == 0 else n * f(n - 1)\n",
    "\n",
    "    return fact_inner"
   ]
  },
  {
   "cell_type": "markdown",
   "metadata": {},
   "source": [
    "Then define `fact` as the fixed-point of `fact_outer`:"
   ]
  },
  {
   "cell_type": "code",
   "execution_count": null,
   "metadata": {},
   "outputs": [],
   "source": [
    "def fact(n):\n",
    "    return fact_outer(fact)(n)"
   ]
  },
  {
   "cell_type": "code",
   "execution_count": null,
   "metadata": {},
   "outputs": [],
   "source": [
    "[fact(n) for n in range(11)]"
   ]
  },
  {
   "cell_type": "markdown",
   "metadata": {},
   "source": [
    "## Fixed-point combinators\n",
    "\n",
    "Notice the similarity of definitions of `fib` and `fact`. Besides naming (where one says `fib` the other says `fact`; where one says `fib_outer` the other says `fact_outer`), they are identical. We can extract a function that returns both:"
   ]
  },
  {
   "cell_type": "code",
   "execution_count": null,
   "metadata": {},
   "outputs": [],
   "source": [
    "def fixed_point(outer):\n",
    "    def fp(*args, **kwargs):\n",
    "        return outer(fp)(*args, **kwargs)\n",
    "    return fp"
   ]
  },
  {
   "cell_type": "markdown",
   "metadata": {},
   "source": [
    "(If you wonder what the _y-combinator_ is, it's just the fixed-point combinator written in lambda calculus.)\n",
    "\n",
    "With this definition at hand, we could redefine `fib` and `fact` as:"
   ]
  },
  {
   "cell_type": "code",
   "execution_count": null,
   "metadata": {},
   "outputs": [],
   "source": [
    "fib = fixed_point(fib_outer)\n",
    "fact = fixed_point(fact_outer)"
   ]
  },
  {
   "cell_type": "code",
   "execution_count": null,
   "metadata": {},
   "outputs": [],
   "source": [
    "[fib(n) for n in range(11)]"
   ]
  },
  {
   "cell_type": "code",
   "execution_count": null,
   "metadata": {},
   "outputs": [],
   "source": [
    "[fact(n) for n in range(11)]"
   ]
  },
  {
   "cell_type": "markdown",
   "metadata": {},
   "source": [
    "### Fixed-point combinator as a decorator"
   ]
  },
  {
   "cell_type": "code",
   "execution_count": null,
   "metadata": {},
   "outputs": [],
   "source": [
    "def fixed_point(outer):\n",
    "    @wraps(outer)\n",
    "    def fp(*args, **kwargs):\n",
    "        return outer(fp)(*args, **kwargs)\n",
    "    return fp"
   ]
  },
  {
   "cell_type": "code",
   "execution_count": null,
   "metadata": {},
   "outputs": [],
   "source": [
    "@fixed_point\n",
    "def fib(f):\n",
    "    def fib_inner(n):\n",
    "        return 1 if n < 2 else f(n - 1) + f(n - 2)\n",
    "    \n",
    "    return fib_inner"
   ]
  },
  {
   "cell_type": "code",
   "execution_count": null,
   "metadata": {},
   "outputs": [],
   "source": [
    "[fib(n) for n in range(11)]"
   ]
  },
  {
   "cell_type": "code",
   "execution_count": null,
   "metadata": {},
   "outputs": [],
   "source": [
    "fib.__name__"
   ]
  },
  {
   "cell_type": "markdown",
   "metadata": {},
   "source": [
    "## A multitude of fixed-points\n",
    "\n",
    "A function like `fib_outer` may have several fixed-points, which, although functionally the same, can vary in side-effects and efficiency. They can be obtained by applying different fixed-point combinators. Here are some examples."
   ]
  },
  {
   "cell_type": "markdown",
   "metadata": {},
   "source": [
    "### Example 1: A fixed-point that logs"
   ]
  },
  {
   "cell_type": "code",
   "execution_count": null,
   "metadata": {},
   "outputs": [],
   "source": [
    "def logging_fixed_point(outer):\n",
    "    @log\n",
    "    @wraps(outer)\n",
    "    def fp(*args, **kwargs):\n",
    "        return outer(fp)(*args, **kwargs)\n",
    "    return fp"
   ]
  },
  {
   "cell_type": "code",
   "execution_count": null,
   "metadata": {},
   "outputs": [],
   "source": [
    "logging_fixed_point(fib_outer)(5)"
   ]
  },
  {
   "cell_type": "markdown",
   "metadata": {},
   "source": [
    "### Example 2: A fixed-point that memoizes"
   ]
  },
  {
   "cell_type": "code",
   "execution_count": null,
   "metadata": {},
   "outputs": [],
   "source": [
    "from functools import lru_cache\n",
    "\n",
    "def memoizing_fixed_point(outer):\n",
    "    @lru_cache\n",
    "    def fp(*args, **kwargs):\n",
    "        return outer(fp)(*args, **kwargs)\n",
    "    return fp"
   ]
  },
  {
   "cell_type": "code",
   "execution_count": null,
   "metadata": {},
   "outputs": [],
   "source": [
    "fixed_point(fib_outer)(34)"
   ]
  },
  {
   "cell_type": "code",
   "execution_count": null,
   "metadata": {},
   "outputs": [],
   "source": [
    "memoizing_fixed_point(fib_outer)(100)"
   ]
  },
  {
   "cell_type": "markdown",
   "metadata": {},
   "source": [
    "### Example 3: A fixed-point that logs and memoizes"
   ]
  },
  {
   "cell_type": "code",
   "execution_count": null,
   "metadata": {},
   "outputs": [],
   "source": [
    "def logging_memoizing_fixed_point(outer):\n",
    "\n",
    "    @log\n",
    "    @lru_cache\n",
    "    @wraps(outer)\n",
    "    def fp(*args, **kwargs):\n",
    "        return outer(fp)(*args, **kwargs)\n",
    "    return fp"
   ]
  },
  {
   "cell_type": "code",
   "execution_count": null,
   "metadata": {},
   "outputs": [],
   "source": [
    "logging_memoizing_fixed_point(fib_outer)(10)"
   ]
  },
  {
   "cell_type": "markdown",
   "metadata": {},
   "source": [
    "## Conclusion\n",
    "\n",
    "When you define a recursive function by using a fixed-point combinator on an \"outer\" function as illustrated in this presentation, you can vary the fixed-point combinator for selected calls. A fixed-point combinator can be thought of as a kind of \"dynamic decorator\"."
   ]
  }
 ],
 "metadata": {
  "kernelspec": {
   "display_name": "Python 3",
   "language": "python",
   "name": "python3"
  },
  "language_info": {
   "codemirror_mode": {
    "name": "ipython",
    "version": 3
   },
   "file_extension": ".py",
   "mimetype": "text/x-python",
   "name": "python",
   "nbconvert_exporter": "python",
   "pygments_lexer": "ipython3",
   "version": "3.8.6"
  }
 },
 "nbformat": 4,
 "nbformat_minor": 4
}
