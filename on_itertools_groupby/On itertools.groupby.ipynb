{
 "cells": [
  {
   "cell_type": "markdown",
   "metadata": {},
   "source": [
    "# On `itertools.groupby`\n",
    "\n",
    "Presentation to San Diego Python User Group on 2019-09-26"
   ]
  },
  {
   "cell_type": "markdown",
   "metadata": {},
   "source": [
    "## Why `groupby`?\n",
    "\n",
    "- Sufficiently narrow subject for a lightning talk\n",
    "- Every Python developer should be familiar with the collections and itertools packages\n",
    "- It’s a pretty awesome function!\n",
    "- However, unappreciated :("
   ]
  },
  {
   "cell_type": "markdown",
   "metadata": {},
   "source": [
    "## What does `groupby` do?\n",
    "\n",
    "- Breaks a sequence of objects into chunks of consecutive elements\n",
    "- A chunk is a contiguous portion of the input that have something in common, as determined by a key function\n",
    "- The key function is an argument of `groupby` and defaults to the identity function\n",
    "- `groupby` returns a generator of pairs `(k, g)`, one such pair for each chunk, where `k` is the key value of the chunk, and `g` is a generator of the elements of the chunk.\n"
   ]
  },
  {
   "cell_type": "markdown",
   "metadata": {},
   "source": [
    "## Example"
   ]
  },
  {
   "cell_type": "code",
   "execution_count": 1,
   "metadata": {},
   "outputs": [
    {
     "data": {
      "text/plain": [
       "['the', 'fox', 'the', 'dog', 'over', 'lazy', 'quick', 'brown', 'jumps']"
      ]
     },
     "execution_count": 1,
     "metadata": {},
     "output_type": "execute_result"
    }
   ],
   "source": [
    "from itertools import groupby\n",
    "\n",
    "words = 'the quick brown fox jumps over the lazy dog'.split(' ')\n",
    "words.sort(key=len)\n",
    "words"
   ]
  },
  {
   "cell_type": "code",
   "execution_count": 2,
   "metadata": {},
   "outputs": [
    {
     "data": {
      "text/plain": [
       "{3: ['the', 'fox', 'the', 'dog'],\n",
       " 4: ['over', 'lazy'],\n",
       " 5: ['quick', 'brown', 'jumps']}"
      ]
     },
     "execution_count": 2,
     "metadata": {},
     "output_type": "execute_result"
    }
   ],
   "source": [
    "{k:list(g) for k, g in groupby(words, key=len)}"
   ]
  },
  {
   "cell_type": "code",
   "execution_count": 3,
   "metadata": {},
   "outputs": [
    {
     "data": {
      "text/plain": [
       "[3, 4, 5]"
      ]
     },
     "execution_count": 3,
     "metadata": {},
     "output_type": "execute_result"
    }
   ],
   "source": [
    "[k for k, _ in groupby(words, key=len)]"
   ]
  },
  {
   "cell_type": "markdown",
   "metadata": {},
   "source": [
    "## Example: Sales report\n",
    "\n",
    "**Task:** Create a nicely formatted sales report. \n",
    "\n",
    "**Input:** An iterable of records, where each record consists of a product ID, product group ID, and value. The input is sorted by product group ID then by product ID. The input may contain multiple records pertaining to the same product.\n",
    "\n",
    "**Output:** A nicely formatted report. The report should show a total for each product, a total for each product group, and a total for all records. \n"
   ]
  },
  {
   "cell_type": "code",
   "execution_count": 4,
   "metadata": {},
   "outputs": [],
   "source": [
    "from collections import namedtuple\n",
    "\n",
    "Record = namedtuple('Record', 'product product_group value')"
   ]
  },
  {
   "cell_type": "markdown",
   "metadata": {},
   "source": [
    "### Flow chart\n",
    "\n",
    "A rough flow chart for the task is shown below. Typical implementations keep track of the previous record and compare it with the current record to check if the previous record was the last one of a product or product group. "
   ]
  },
  {
   "cell_type": "markdown",
   "metadata": {},
   "source": [
    "<img src=\"assets/flow_chart.png\" alt=\"Flow Chart\" width=\"500\"/>"
   ]
  },
  {
   "cell_type": "markdown",
   "metadata": {},
   "source": [
    "`groupby` implements the logic of comparing current with previous etc., so that you don't have to do it in your code. We can use `groupby` to deliver the records in chunks where all records in each chunk belong to the same product group."
   ]
  },
  {
   "cell_type": "code",
   "execution_count": 5,
   "metadata": {},
   "outputs": [],
   "source": [
    "from itertools import groupby\n",
    "\n",
    "def generate_report(all_records):\n",
    "    total = 0\n",
    "    for prod_group_id, prod_group_records in groupby(all_records, key=lambda record: record.product_group):\n",
    "        total += yield from process_product_group(prod_group_id, prod_group_records)\n",
    "    yield 'Total:                          %6d' % total"
   ]
  },
  {
   "cell_type": "markdown",
   "metadata": {},
   "source": [
    "The function `generate_report` divides the input stream into chunks, where each chunk corresponds to all records in one product group, and passes the product group id and product group records to `process_product_group`. The function `generate_report` passes on whatever the function `process_product_group` yields. The sum for each product group is added to the grand total, which is yielded at the end."
   ]
  },
  {
   "cell_type": "code",
   "execution_count": 6,
   "metadata": {},
   "outputs": [],
   "source": [
    "def process_product_group(group_id, group_records):\n",
    "    group_total = 0\n",
    "    yield 'Group: %s' % group_id\n",
    "    for prod_id, prod_records in groupby(group_records, key=lambda record: record.product):\n",
    "        group_total += yield from process_product(prod_id, prod_records)\n",
    "    yield '    Group total:                %6d' % group_total\n",
    "    yield ''\n",
    "    return group_total"
   ]
  },
  {
   "cell_type": "markdown",
   "metadata": {},
   "source": [
    "The function `process_product_group` divides the stream of all the records that belong to one product group into chunks, where each chunk corresponds to the records of one product, and passes the product id and the product records to `process_product`. The function `process_product_group` passes on whatever the function `process_product` yields. The sum for each product is added to the product group total, which is returned at the end."
   ]
  },
  {
   "cell_type": "markdown",
   "metadata": {},
   "source": [
    "Note that a generator function can both yield values and return a value. This is what happens: When the generator function reaches the return statement, a `StopIteration` exception is raised. The returned value is passed in the `StopIteration` exception's `value` property, and can be extracted by the client if it catches the exception. This does not need to be coded explicitly; it's all part of the `yield from` semantics. "
   ]
  },
  {
   "cell_type": "code",
   "execution_count": 7,
   "metadata": {},
   "outputs": [],
   "source": [
    "def process_product(prod_id, prod_records):\n",
    "    prod_total = sum(int(record.value) for record in prod_records)\n",
    "    yield '    Product: %s Value: %6d' % (prod_id, prod_total)\n",
    "    return prod_total"
   ]
  },
  {
   "cell_type": "markdown",
   "metadata": {},
   "source": [
    "The function `process_product` yields one line of the report that pertains to one product and returns the total value for that product."
   ]
  },
  {
   "cell_type": "markdown",
   "metadata": {},
   "source": [
    "### Verification"
   ]
  },
  {
   "cell_type": "code",
   "execution_count": 8,
   "metadata": {},
   "outputs": [
    {
     "name": "stdout",
     "output_type": "stream",
     "text": [
      "Group: 001\n",
      "    Product: 0001 Value:     12\n",
      "    Product: 0012 Value:   1032\n",
      "    Group total:                  1044\n",
      "\n",
      "Group: 007\n",
      "    Product: 0009 Value:    207\n",
      "    Product: 0112 Value:  12119\n",
      "    Product: 1009 Value:    200\n",
      "    Group total:                 12526\n",
      "\n",
      "Total:                           13570\n"
     ]
    }
   ],
   "source": [
    "records = [Record(product='0001', product_group='001', value='12'),\n",
    "           Record(product='0012', product_group='001', value='1000'),\n",
    "           Record(product='0012', product_group='001', value='32'),\n",
    "           Record(product='0009', product_group='007', value='207'),\n",
    "           Record(product='0112', product_group='007', value='12119'),\n",
    "           Record(product='1009', product_group='007', value='200')]\n",
    "\n",
    "for line in generate_report(records):\n",
    "    print(line)"
   ]
  },
  {
   "cell_type": "markdown",
   "metadata": {},
   "source": [
    "## Example: Prime factors\n",
    "\n",
    "Consider the following function:"
   ]
  },
  {
   "cell_type": "code",
   "execution_count": 9,
   "metadata": {},
   "outputs": [],
   "source": [
    "def gen_prime_factors(n):\n",
    "    \"\"\"Generate all the prime factors of n in ascending order\"\"\"\n",
    "    factor = 2\n",
    "    while factor * factor <= n:\n",
    "        if n % factor == 0:\n",
    "            yield factor\n",
    "            n //= factor\n",
    "        else:\n",
    "            factor = factor + (1 if factor == 2 else 2)\n",
    "    if n > 1:\n",
    "        yield n"
   ]
  },
  {
   "cell_type": "code",
   "execution_count": 10,
   "metadata": {},
   "outputs": [
    {
     "data": {
      "text/plain": [
       "[2, 2, 2, 3, 3]"
      ]
     },
     "execution_count": 10,
     "metadata": {},
     "output_type": "execute_result"
    }
   ],
   "source": [
    "list(gen_prime_factors(72))"
   ]
  },
  {
   "cell_type": "markdown",
   "metadata": {},
   "source": [
    "Sometimes it's useful to group equal factors together:"
   ]
  },
  {
   "cell_type": "code",
   "execution_count": 11,
   "metadata": {},
   "outputs": [],
   "source": [
    "def prime_factors(n):\n",
    "    \"\"\"Returns a list of pairs in ascending order where the first\n",
    "    element of each pair is a prime, and the second element is the\n",
    "    number of times the prime divides n. For example:\n",
    "    prime_factors(360) returns [(2, 3), (3, 2), (5, 1)]\"\"\"\n",
    "\n",
    "    return [(p, sum(1 for _ in g)) for p, g in groupby(gen_prime_factors(n))]"
   ]
  },
  {
   "cell_type": "code",
   "execution_count": 12,
   "metadata": {},
   "outputs": [
    {
     "name": "stdout",
     "output_type": "stream",
     "text": [
      "360 = 2^3 + 3^2 + 5^1\n"
     ]
    }
   ],
   "source": [
    "print(360, ' + '.join(f'{x}^{y}' for x, y in prime_factors(360)), sep=' = ')"
   ]
  },
  {
   "cell_type": "markdown",
   "metadata": {},
   "source": [
    "Sometimes we need distinct factors:"
   ]
  },
  {
   "cell_type": "code",
   "execution_count": 13,
   "metadata": {},
   "outputs": [],
   "source": [
    "def totient(n):\n",
    "    \"\"\"Euler's totient function, a.k.a. Euler's phi funtion.\n",
    "    Returns the number of integers between 1 and n that are coprime\n",
    "    with n. For example: totient(60) = 16. The 16 numbers that coprime\n",
    "    with 60 are: 1, 7, 11, 13, 17, 19, 23, 29, 31, 37, 41, 43, 47, 49,\n",
    "    53, 59\"\"\"\n",
    "\n",
    "    for p, _ in groupby(gen_prime_factors(n)):\n",
    "        n -= n // p\n",
    "    return n"
   ]
  },
  {
   "cell_type": "code",
   "execution_count": 14,
   "metadata": {},
   "outputs": [
    {
     "data": {
      "text/plain": [
       "16"
      ]
     },
     "execution_count": 14,
     "metadata": {},
     "output_type": "execute_result"
    }
   ],
   "source": [
    "totient(60)"
   ]
  },
  {
   "cell_type": "code",
   "execution_count": 15,
   "metadata": {},
   "outputs": [
    {
     "data": {
      "text/plain": [
       "[1, 7, 11, 13, 17, 19, 23, 29, 31, 37, 41, 43, 47, 49, 53, 59]"
      ]
     },
     "execution_count": 15,
     "metadata": {},
     "output_type": "execute_result"
    }
   ],
   "source": [
    "from math import gcd\n",
    "\n",
    "[n for n in range(1, 60) if gcd(60, n) == 1]"
   ]
  },
  {
   "cell_type": "code",
   "execution_count": 16,
   "metadata": {},
   "outputs": [
    {
     "data": {
      "text/plain": [
       "16"
      ]
     },
     "execution_count": 16,
     "metadata": {},
     "output_type": "execute_result"
    }
   ],
   "source": [
    "len(_)"
   ]
  },
  {
   "cell_type": "markdown",
   "metadata": {},
   "source": [
    "The above functions might have been written in a more direct way without calling `gen_prime_factors`, but that would lead to code duplication. The function `gen_prime_factors` captures the common part in many prime factor related functions as exemplified by the functions above and also by the functions below:"
   ]
  },
  {
   "cell_type": "code",
   "execution_count": 17,
   "metadata": {},
   "outputs": [],
   "source": [
    "def is_prime(n):\n",
    "    \"\"\":returns True if n is a prime number, False otherwise.\"\"\"\n",
    "    return 1 < n == next(gen_prime_factors(n))"
   ]
  },
  {
   "cell_type": "code",
   "execution_count": 18,
   "metadata": {},
   "outputs": [
    {
     "data": {
      "text/plain": [
       "True"
      ]
     },
     "execution_count": 18,
     "metadata": {},
     "output_type": "execute_result"
    }
   ],
   "source": [
    "is_prime(1021)"
   ]
  },
  {
   "cell_type": "code",
   "execution_count": 19,
   "metadata": {},
   "outputs": [
    {
     "data": {
      "text/plain": [
       "False"
      ]
     },
     "execution_count": 19,
     "metadata": {},
     "output_type": "execute_result"
    }
   ],
   "source": [
    "is_prime(57)"
   ]
  },
  {
   "cell_type": "code",
   "execution_count": 20,
   "metadata": {},
   "outputs": [
    {
     "data": {
      "text/plain": [
       "[(3, 1), (19, 1)]"
      ]
     },
     "execution_count": 20,
     "metadata": {},
     "output_type": "execute_result"
    }
   ],
   "source": [
    "prime_factors(57)"
   ]
  },
  {
   "cell_type": "code",
   "execution_count": 21,
   "metadata": {},
   "outputs": [],
   "source": [
    "def smallest_prime_factor(n):\n",
    "    \"\"\"Returns the smallest prime factor of n\n",
    "    n: An int >= 2\n",
    "    Raises a StopIteration if n < 2\n",
    "    \"\"\"\n",
    "    return next(gen_prime_factors(n))"
   ]
  },
  {
   "cell_type": "code",
   "execution_count": 22,
   "metadata": {},
   "outputs": [],
   "source": [
    "def largest_prime_factor(n):\n",
    "    \"\"\"Returns the largest prime factor of n\n",
    "    n: An int >= 2\n",
    "    Raises a ValueError if n < 2\n",
    "    \"\"\"\n",
    "    return max(gen_prime_factors(n))"
   ]
  },
  {
   "cell_type": "code",
   "execution_count": 23,
   "metadata": {},
   "outputs": [
    {
     "data": {
      "text/plain": [
       "[(3, 1), (673, 1)]"
      ]
     },
     "execution_count": 23,
     "metadata": {},
     "output_type": "execute_result"
    }
   ],
   "source": [
    "prime_factors(2019)"
   ]
  },
  {
   "cell_type": "code",
   "execution_count": 24,
   "metadata": {},
   "outputs": [
    {
     "data": {
      "text/plain": [
       "3"
      ]
     },
     "execution_count": 24,
     "metadata": {},
     "output_type": "execute_result"
    }
   ],
   "source": [
    "smallest_prime_factor(2019)"
   ]
  },
  {
   "cell_type": "code",
   "execution_count": 25,
   "metadata": {},
   "outputs": [
    {
     "data": {
      "text/plain": [
       "673"
      ]
     },
     "execution_count": 25,
     "metadata": {},
     "output_type": "execute_result"
    }
   ],
   "source": [
    "largest_prime_factor(2019)"
   ]
  }
 ],
 "metadata": {
  "kernelspec": {
   "display_name": "Python 3 (ipykernel)",
   "language": "python",
   "name": "python3"
  },
  "language_info": {
   "codemirror_mode": {
    "name": "ipython",
    "version": 3
   },
   "file_extension": ".py",
   "mimetype": "text/x-python",
   "name": "python",
   "nbconvert_exporter": "python",
   "pygments_lexer": "ipython3",
   "version": "3.9.5"
  }
 },
 "nbformat": 4,
 "nbformat_minor": 4
}
