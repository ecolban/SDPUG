{
 "cells": [
  {
   "cell_type": "markdown",
   "metadata": {},
   "source": [
    "# String arithmetic\n",
    "\n",
    "Imagine you were to implement `math.pow` from scratch, would you be able to do it? And, if you were not allowed to use the muliplication function? And not the addition function either? In fact you were not allowed to use any function that returns a number, and not allowed to use numbers altogether?\n",
    "\n",
    "It shouldn't be too difficult. In fact, when we do arithmetic with pencil and paper, we represent numbers as strings. We just need to translate those pencil and paper operations to code.\n",
    "\n",
    "This is an exercise I did to familiarize myself with writing classes in Python and the so called \"dunder\" methods in particular.\n",
    "\n",
    "Let's start with some static variables and the initiator."
   ]
  },
  {
   "cell_type": "code",
   "execution_count": null,
   "metadata": {},
   "outputs": [],
   "source": [
    "class StrNum(object):\n",
    "    \n",
    "    # Defining 32-bit numbers in little-endian\n",
    "    digit_to_binary = {\n",
    "        '0': '00000000000000000000000000000000',\n",
    "        '1': '10000000000000000000000000000000',\n",
    "        '2': '01000000000000000000000000000000',\n",
    "        '3': '11000000000000000000000000000000',\n",
    "        '4': '00100000000000000000000000000000',\n",
    "        '5': '10100000000000000000000000000000',\n",
    "        '6': '01100000000000000000000000000000',\n",
    "        '7': '11100000000000000000000000000000',\n",
    "        '8': '00010000000000000000000000000000',\n",
    "        '9': '10010000000000000000000000000000'}\n",
    "\n",
    "    binary_to_digit = {b: d for d, b in digit_to_binary.items()}\n",
    "    \n",
    "    def __init__(self, s, binary=False):\n",
    "        # should have validated s, but trusting the client instead\n",
    "        if binary:\n",
    "            self._value = s\n",
    "        elif s in StrNum.digit_to_binary:\n",
    "            self._value = StrNum.digit_to_binary[s]\n",
    "        else:\n",
    "            n = zero\n",
    "            sgn = one\n",
    "            for d in s:\n",
    "                if d == '-':\n",
    "                    sgn = -sgn\n",
    "                else:\n",
    "                    n *= ten\n",
    "                    n += StrNum(d)\n",
    "            self._value = (sgn * n)._value\n",
    "    "
   ]
  },
  {
   "cell_type": "markdown",
   "metadata": {},
   "source": [
    "Numbers are represented  by 32 bits in little-endian format, which means that the least significant bit is the first bit. To represent negative numbers, we'll use *two's complement* format."
   ]
  },
  {
   "cell_type": "markdown",
   "metadata": {},
   "source": [
    "The initiator takes a string that represents a number in decimal or binary. If the string represents a number in binary, the string must be 32 bits long. If the string represents a number in decimal, the string may start with a '-' character to represent a negative number.\n",
    "\n",
    "In this code, `zero`, `one`, `ten` (equal to `StrNum('0')`, `StrNum('1')`, and `StrNum('10')` respectively), and the other `StrNum` operations used in the initiator are defined later."
   ]
  },
  {
   "cell_type": "code",
   "execution_count": null,
   "metadata": {},
   "outputs": [],
   "source": [
    "    def __add__(self, other):\n",
    "\n",
    "        def sum_bits():\n",
    "            carry = '0'\n",
    "            for x in zip(self._value, other._value):\n",
    "                if x == ('0', '0'):\n",
    "                    yield carry\n",
    "                    carry = '0'\n",
    "                elif x == ('1', '1'):\n",
    "                    yield carry\n",
    "                    carry = '1'\n",
    "                else:\n",
    "                    yield '1' if carry == '0' else '0'\n",
    "\n",
    "        return StrNum(''.join(sum_bits()), binary=True)"
   ]
  },
  {
   "cell_type": "markdown",
   "metadata": {},
   "source": [
    "Addition (`+`) is defined through the \"dunder method\" (a.k.a. \"magic method\") `__add__`. This method is called indirectly by `__init__()` defined above. It allows for expressions such as `a + b`, where `a` and `b` are `StrNum` instances. If `a` is a variable, it can also be used in expressions such as `a += b`. It is used that way not only in the initiator, but throughout the code that defines the `StrNum` class."
   ]
  },
  {
   "cell_type": "code",
   "execution_count": null,
   "metadata": {},
   "outputs": [],
   "source": [
    "    def __lshift__(self, other):\n",
    "        b = one\n",
    "        bits = deque(self._value)\n",
    "        while b <= other:\n",
    "            bits.appendleft('0')\n",
    "            bits.pop()\n",
    "            b = b + one\n",
    "        return StrNum(''.join(bits), binary=True)\n",
    "\n",
    "    def __rshift__(self, other):\n",
    "        b = one\n",
    "        bits = deque(self._value)\n",
    "        sign_bit = '1' if self.__is_negative() else '0'\n",
    "        while b <= other:\n",
    "            bits.append(sign_bit)\n",
    "            bits.popleft()\n",
    "            b += one\n",
    "        return StrNum(''.join(bits), binary=True)"
   ]
  },
  {
   "cell_type": "markdown",
   "metadata": {},
   "source": [
    "Left shift (`<<`) and right shift (`>>`) are defined by the dunder methods `__lshift__` and `__rshift__`. Because of the little endian representation, a left shift shifts the bits to the right and vice versa for right shift. For right shifts, we fill in with the sign bit."
   ]
  },
  {
   "cell_type": "code",
   "execution_count": null,
   "metadata": {},
   "outputs": [],
   "source": [
    "    def __neg__(self):\n",
    "        one_complement = ''.join('1' if c == '0' else '0' for c in self._value)\n",
    "        return StrNum(one_complement, binary=True) + one"
   ]
  },
  {
   "cell_type": "markdown",
   "metadata": {},
   "source": [
    "To negate a number when using two's complement representation, we invert the bits and add 1."
   ]
  },
  {
   "cell_type": "code",
   "execution_count": null,
   "metadata": {},
   "outputs": [],
   "source": [
    "    def __sub__(self, other):\n",
    "        return self + -other"
   ]
  },
  {
   "cell_type": "markdown",
   "metadata": {},
   "source": [
    "Subtraction is simply adding the opposite (defined above by `__neg__`)."
   ]
  },
  {
   "cell_type": "code",
   "execution_count": null,
   "metadata": {},
   "outputs": [],
   "source": [
    "    def __is_negative(self):\n",
    "        return ('1', '1') in zip(self._value, '00000000000000000000000000000001')"
   ]
  },
  {
   "cell_type": "markdown",
   "metadata": {},
   "source": [
    "Whether a number is negative or positive is determined by the sign bit (the rightmost bit in little-endian representation). Since we cannot use an index to reference that bit (indices are numbers and numbers are not allowed), we resort to a little trick."
   ]
  },
  {
   "cell_type": "code",
   "execution_count": null,
   "metadata": {},
   "outputs": [],
   "source": [
    "    def __abs__(self):\n",
    "        return -self if self.__is_negative() else self\n",
    "\n",
    "    def __eq__(self, other):\n",
    "        return self._value == other._value\n",
    "\n",
    "    def __ne__(self, other):\n",
    "        return self._value != other._value\n",
    "\n",
    "    def __gt__(self, other):\n",
    "        return (other - self).__is_negative()\n",
    "\n",
    "    def __ge__(self, other):\n",
    "        return self == other or self > other\n",
    "\n",
    "    def __lt__(self, other):\n",
    "        return (self - other).__is_negative()\n",
    "\n",
    "    def __le__(self, other):\n",
    "        return self == other or self < other"
   ]
  },
  {
   "cell_type": "markdown",
   "metadata": {},
   "source": [
    "The above definitions should be straight-forward."
   ]
  },
  {
   "cell_type": "markdown",
   "metadata": {},
   "source": [
    "The definitions of `__mult__`, `__divmod__`, and `__pow__` are based on the \"number climber\" algorithm: Given a number `n`, generate a sequence of numbers starting at 1 and ending at `n` such that each number in the sequence except the first is the double or the double plus one of the preceding number in the sequence. For example, given `102`, the sequence is `1, 3, 6, 12, 25, 51, 102`, because `3 == 2 * 1 + 1`, `6 == 2 * 3`, `12 == 2 * 6`, `25 == 2 * 12 + 1`, `51 == 2 * 25 + 1`, and `102 == 2 * 51`. Notice that this sequence is unique.\n",
    "\n",
    "The number climber can be illustrated by the following table:\n",
    "\n",
    "| A   |  B  |  C  |\n",
    "|-----|-----|-----|\n",
    "| 102 | 128 |   0 |\n",
    "|  38 |  64 |   1 |\n",
    "|   6 |  32 |   3 |\n",
    "|   6 |  16 |   6 |\n",
    "|   6 |   8 |  12 |\n",
    "|   2 |   4 |  25 |\n",
    "|   0 |   2 |  51 |\n",
    "|   0 |   1 | 102 |\n",
    "\n",
    "Let's refer to the given number as $n$, the numbers in one row of the table as $a$, $b$, and $c$, and the numbers in the following row as $a'$, $b'$, and $c'$. The table is initialized with $a = n$, $b$ = a power of 2 greater than $n$, and $c = 0$. To go from one row to the next:\n",
    "\n",
    "- $b' = b / 2$\n",
    "- if $b' \\le a$, then $a' = a - b'$ \n",
    "- if $b' \\le a$, then $c' = 2c + 1$, else $c' = 2c$\n",
    "\n",
    "The last row is reached when $b = 1$.\n",
    "\n",
    "For each row, we have:\n",
    "1. $0 \\le a < b$\n",
    "2. $a + bc = n$\n",
    "\n",
    "So, when $b = 1$, $0 \\le a < 1$, which implies $a = 0$ and $c = n$. We also have that each number in column C is the double or double plus 1 of the number in the preceding row, and, since it ends in $n$, this column contains the number climber sequence.\n",
    "\n",
    "The number climber can be used to \"climb\" to a product of $nk$ for some number $k$. Imagine a fourth column containg the product $ck$. When $c' = 2c$, $c'k = 2ck$, and when $c' = 2c + 1$, $c'k = 2ck + k$. For example, if $k = 12$:\n",
    "\n",
    "| A   |  B  |  C  |  D  |\n",
    "|-----|-----|-----|-----|\n",
    "| 102 | 128 |   0 |   0 |\n",
    "|  38 |  64 |   1 |  12 |\n",
    "|   6 |  32 |   3 |  36 |\n",
    "|   6 |  16 |   6 |  72 |\n",
    "|   6 |   8 |  12 | 144 |\n",
    "|   2 |   4 |  25 | 300 |\n",
    "|   0 |   2 |  51 | 612 |\n",
    "|   0 |   1 | 102 |1224 |\n",
    "\n",
    "Note that we don't really need columns B and C. In column A, we could have the bits of $n$ from most significant bit to least significant bit. The number $c$ doubles for each 0 bit in $n$ and doubles plus one for each 1 bit in $n$. Note that 102 is 1100110 in binary\n",
    "\n",
    "|A  | 1 | 1 | 0 |  0 |  1|  1 |   0|\n",
    "|---|---|---|---|----|---|----|----|\n",
    "|D  |12 |36 |72 |144 |300|612 |1224|\n",
    "\n",
    "This explains the `__mul__` method below. The `__divmod__` and `__pow__` methods are similar adaptations of the number climber. "
   ]
  },
  {
   "cell_type": "code",
   "execution_count": null,
   "metadata": {},
   "outputs": [],
   "source": [
    "    def __mul__(self, other):\n",
    "        if self.__is_negative():\n",
    "            return -(-self * other)\n",
    "        result = zero\n",
    "        for bit in reversed(self._value):\n",
    "            result <<= one\n",
    "            if bit == '1':\n",
    "                result += other\n",
    "        return result"
   ]
  },
  {
   "cell_type": "markdown",
   "metadata": {},
   "source": [
    "Note that the code above is simpler than what we have implemented: `__mul__(self, other, mod=None)`, which returns `self * other % mod` if `mod` is not `None`. "
   ]
  },
  {
   "cell_type": "code",
   "execution_count": null,
   "metadata": {},
   "outputs": [],
   "source": [
    "    def __divmod__(self, other):\n",
    "        # neither self nor other is negative\n",
    "        q, r = zero, zero\n",
    "        # dividend = the number we're climbing\n",
    "        # divisor = other\n",
    "        # dividend = q * divisor + r, 0 <= r < divisor\n",
    "        for b in reversed(self._value): \n",
    "            q, r = q << one, r << one\n",
    "            if b == '1':\n",
    "                r += one\n",
    "            if r >= other:\n",
    "                r -= other\n",
    "                q += one\n",
    "        return q, r"
   ]
  },
  {
   "cell_type": "markdown",
   "metadata": {},
   "source": [
    "The definition of `__divmod__` above applies only when both arguments are positive. More care must be taken to cover cases where one or both are negative, the gist of it is captured here."
   ]
  },
  {
   "cell_type": "code",
   "execution_count": null,
   "metadata": {},
   "outputs": [],
   "source": [
    "    def __pow__(self, exponent, mod=None):\n",
    "        base = self % mod if mod else self\n",
    "        power = one\n",
    "        for bit in reversed(exponent._value):\n",
    "            power = power.__mul__(power, mod)\n",
    "            if bit == '1':\n",
    "                power = power.__mul__(base, mod)\n",
    "        return power"
   ]
  },
  {
   "cell_type": "markdown",
   "metadata": {},
   "source": [
    "The above method is called when the function `pow()` is called on three StrNum objects. `self` and `mod` may be negative, but `exponent` must be non-negative and `mod` must be non-zero."
   ]
  },
  {
   "cell_type": "code",
   "execution_count": null,
   "metadata": {},
   "outputs": [],
   "source": [
    "    def __str__(self):\n",
    "        if self == zero: return '0'\n",
    "        if self < zero: return '-' + str(-self)\n",
    "        result = \"\"\n",
    "        s = self\n",
    "        while s > zero:\n",
    "            s, r = s.__divmod__(ten)\n",
    "            result = StrNum.binary_to_digit[r._value] + result\n",
    "        return result"
   ]
  },
  {
   "cell_type": "markdown",
   "metadata": {},
   "source": [
    "The string representation of a `StrNum` object is the decimal string representation. For example, the string representation of `StrNum('123')` is `'123'`."
   ]
  },
  {
   "cell_type": "code",
   "execution_count": null,
   "metadata": {},
   "outputs": [],
   "source": [
    "    def __repr__(self):\n",
    "        return f\"StrNum('{self}')\""
   ]
  },
  {
   "cell_type": "markdown",
   "metadata": {},
   "source": [
    "The `repr` of a `StrNum` object is an expression that evaluates to the object or to one that is equal. For example, the `repr` of `StrNum('123')` is `\"StrNum('123')\"`."
   ]
  },
  {
   "cell_type": "code",
   "execution_count": null,
   "metadata": {},
   "outputs": [],
   "source": [
    "    def __hash__(self):\n",
    "        return hash(self._value)"
   ]
  },
  {
   "cell_type": "markdown",
   "metadata": {},
   "source": [
    "Note that `StrNum` objects are immutable and hashable. The hash of a `StrNum` object is the hash of its `_value` property."
   ]
  },
  {
   "cell_type": "code",
   "execution_count": null,
   "metadata": {},
   "outputs": [],
   "source": [
    "zero = StrNum('0')\n",
    "one  = StrNum('1')\n",
    "ten  = StrNum('01010000000000000000000000000000', binary=True)"
   ]
  },
  {
   "cell_type": "markdown",
   "metadata": {},
   "source": [
    "Finally, the constants `zero`, `one` and `ten` are defined outside the class definition. "
   ]
  },
  {
   "cell_type": "markdown",
   "metadata": {},
   "source": [
    "## Verification"
   ]
  },
  {
   "cell_type": "code",
   "execution_count": null,
   "metadata": {},
   "outputs": [],
   "source": [
    "from src.strmath import *\n",
    "from random import randrange"
   ]
  },
  {
   "cell_type": "code",
   "execution_count": null,
   "metadata": {},
   "outputs": [],
   "source": [
    "bound = int(1e9)\n",
    "base = str(randrange(-bound, bound + 1))\n",
    "exponent = str(randrange(0, bound + 1))\n",
    "x = randrange(-bound, bound)\n",
    "modulus = str(bound) if x == 0 else str(x)"
   ]
  },
  {
   "cell_type": "code",
   "execution_count": null,
   "metadata": {},
   "outputs": [],
   "source": [
    "base, exponent, modulus"
   ]
  },
  {
   "cell_type": "code",
   "execution_count": null,
   "metadata": {},
   "outputs": [],
   "source": [
    "pow(int(base), int(exponent), int(modulus))"
   ]
  },
  {
   "cell_type": "code",
   "execution_count": null,
   "metadata": {},
   "outputs": [],
   "source": [
    "pow(StrNum(base), StrNum(exponent), StrNum(modulus))"
   ]
  },
  {
   "cell_type": "code",
   "execution_count": null,
   "metadata": {},
   "outputs": [],
   "source": []
  }
 ],
 "metadata": {
  "kernelspec": {
   "display_name": "Python 3 (ipykernel)",
   "language": "python",
   "name": "python3"
  },
  "language_info": {
   "codemirror_mode": {
    "name": "ipython",
    "version": 3
   },
   "file_extension": ".py",
   "mimetype": "text/x-python",
   "name": "python",
   "nbconvert_exporter": "python",
   "pygments_lexer": "ipython3",
   "version": "3.9.5"
  },
  "pycharm": {
   "stem_cell": {
    "cell_type": "raw",
    "metadata": {
     "collapsed": false
    },
    "source": []
   }
  }
 },
 "nbformat": 4,
 "nbformat_minor": 4
}
